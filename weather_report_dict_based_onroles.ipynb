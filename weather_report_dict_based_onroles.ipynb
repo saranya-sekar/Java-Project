{
 "cells": [
  {
   "cell_type": "code",
   "execution_count": 1,
   "metadata": {},
   "outputs": [
    {
     "name": "stdout",
     "output_type": "stream",
     "text": [
      "How many data you have ?2\n",
      "Enter State :: TN\n",
      "Enter City :: Chennai\n",
      "Enter Area :: KDM\n",
      "Enter Rainfall ::1\n",
      "Enter Precipitation ::2\n",
      "Enter Humidity ::3\n",
      "Enter Wind ::4\n",
      "Enter Temperature ::5\n",
      "{'2021-05-22 00:48:02.663655': {'TN': {'Chennai': {'KDM': {'rainfall': 1.0, 'precipitation': 2.0, 'humidity': 3.0, 'wind': 4, 'temperature': 5.0}}}}}\n",
      "Do you wish to modify? Yes\n",
      "Enter Date :: 2021-05-22 00:48:02.663655\n",
      "Enter State :: TN\n",
      "Enter City :: Chennai\n",
      "Enter Area :: KDM\n",
      "Enter Variable to be changedrainfall\n",
      "Enter new Value4\n",
      "{'2021-05-22 00:48:02.663655': {'TN': {'Chennai': {'KDM': {'rainfall': 4.0, 'precipitation': 2.0, 'humidity': 3.0, 'wind': 4, 'temperature': 5.0}}}}}\n",
      "Enter State :: AP\n",
      "Enter City :: Kadappa\n",
      "Enter Area :: Begumpet\n",
      "Enter Rainfall ::4\n",
      "Enter Precipitation ::5\n",
      "Enter Humidity ::6\n",
      "Enter Wind ::7\n",
      "Enter Temperature ::8\n",
      "{'2021-05-22 00:48:02.663655': {'TN': {'Chennai': {'KDM': {'rainfall': 4.0, 'precipitation': 2.0, 'humidity': 3.0, 'wind': 4, 'temperature': 5.0}}}}, '2021-05-22 00:48:44.334038': {'AP': {'Kadappa': {'Begumpet': {'rainfall': 4.0, 'precipitation': 5.0, 'humidity': 6.0, 'wind': 7, 'temperature': 8.0}}}}}\n",
      "Do you wish to modify? no\n",
      "{'2021-05-22 00:48:02.663655': {'TN': {'Chennai': {'KDM': {'rainfall': 4.0, 'precipitation': 2.0, 'humidity': 3.0, 'wind': 4, 'temperature': 5.0}}}}, '2021-05-22 00:48:44.334038': {'AP': {'Kadappa': {'Begumpet': {'rainfall': 4.0, 'precipitation': 5.0, 'humidity': 6.0, 'wind': 7, 'temperature': 8.0}}}}}\n"
     ]
    }
   ],
   "source": [
    "import datetime\n",
    "\n",
    "weather_data={}\n",
    "number_of_entries = int(input(\"How many data you have ?\"))\n",
    "for x in range(0,number_of_entries):\n",
    "    date = str(datetime.datetime.now())\n",
    "    state = str(input(\"Enter State :: \"))\n",
    "    city = str(input(\"Enter City :: \"))\n",
    "    area = str(input(\"Enter Area :: \"))\n",
    "    rainfall = float(input(\"Enter Rainfall ::\"))\n",
    "    precipitation = float(input(\"Enter Precipitation ::\"))\n",
    "    humidity = float(input(\"Enter Humidity ::\"))\n",
    "    wind = int(input(\"Enter Wind ::\"))\n",
    "    temperature = float(input(\"Enter Temperature ::\"))\n",
    "    weather_data[date] = {\n",
    "                            state:{\n",
    "                                city:{\n",
    "                                    area:{\n",
    "                                        'rainfall':rainfall,'precipitation':precipitation,'humidity':humidity,'wind':wind,'temperature':temperature\n",
    "                                    }\n",
    "                                }\n",
    "                            }\n",
    "                         }\n",
    "    print(weather_data)\n",
    "    \n",
    "    modify = str(input(\"Do you wish to modify? \"))\n",
    "    if modify == 'Yes':\n",
    "        date = str(input(\"Enter Date :: \"))\n",
    "        state = str(input(\"Enter State :: \"))\n",
    "        city = str(input(\"Enter City :: \"))\n",
    "        area = str(input(\"Enter Area :: \")) \n",
    "        variable_to_be_changed = str(input(\"Enter Variable to be changed\"))\n",
    "        new_value = float(input(\"Enter new Value\"))\n",
    "        weather_data[date][state][city][area][variable_to_be_changed] = new_value\n",
    "    print(weather_data)   "
   ]
  },
  {
   "cell_type": "code",
   "execution_count": null,
   "metadata": {},
   "outputs": [],
   "source": []
  }
 ],
 "metadata": {
  "kernelspec": {
   "display_name": "Python 3",
   "language": "python",
   "name": "python3"
  },
  "language_info": {
   "codemirror_mode": {
    "name": "ipython",
    "version": 3
   },
   "file_extension": ".py",
   "mimetype": "text/x-python",
   "name": "python",
   "nbconvert_exporter": "python",
   "pygments_lexer": "ipython3",
   "version": "3.8.5"
  }
 },
 "nbformat": 4,
 "nbformat_minor": 4
}
