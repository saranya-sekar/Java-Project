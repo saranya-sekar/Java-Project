{
  "nbformat": 4,
  "nbformat_minor": 0,
  "metadata": {
    "accelerator": "GPU",
    "colab": {
      "name": "Untitled0.ipynb",
      "provenance": [],
      "collapsed_sections": [],
      "authorship_tag": "ABX9TyOEvulvJkTkbrc7Moho6iOp",
      "include_colab_link": true
    },
    "kernelspec": {
      "display_name": "Python 3",
      "name": "python3"
    }
  },
  "cells": [
    {
      "cell_type": "markdown",
      "metadata": {
        "id": "view-in-github",
        "colab_type": "text"
      },
      "source": [
        "<a href=\"https://colab.research.google.com/github/saranya-sekar/Java-Project/blob/main/Homework.ipynb\" target=\"_parent\"><img src=\"https://colab.research.google.com/assets/colab-badge.svg\" alt=\"Open In Colab\"/></a>"
      ]
    },
    {
      "cell_type": "code",
      "metadata": {
        "colab": {
          "base_uri": "https://localhost:8080/"
        },
        "id": "OceXIc-uaTlm",
        "outputId": "b34afa86-9fd7-4c42-a105-11f9588323f1"
      },
      "source": [
        "print('Hai')"
      ],
      "execution_count": null,
      "outputs": [
        {
          "output_type": "stream",
          "text": [
            "Hai\n"
          ],
          "name": "stdout"
        }
      ]
    },
    {
      "cell_type": "code",
      "metadata": {
        "colab": {
          "base_uri": "https://localhost:8080/"
        },
        "id": "RKn_Ym53xIBD",
        "outputId": "8503d1d1-6386-4762-e657-b288fb56ce95"
      },
      "source": [
        "pip install binarytree"
      ],
      "execution_count": null,
      "outputs": [
        {
          "output_type": "stream",
          "text": [
            "Collecting binarytree\n",
            "  Downloading https://files.pythonhosted.org/packages/80/cf/09e363df1fbdfbf1413f1c737a7da8ce22559456b3ac520ba3008fef2996/binarytree-5.1.0-py2.py3-none-any.whl\n",
            "Installing collected packages: binarytree\n",
            "Successfully installed binarytree-5.1.0\n"
          ],
          "name": "stdout"
        }
      ]
    },
    {
      "cell_type": "code",
      "metadata": {
        "colab": {
          "base_uri": "https://localhost:8080/"
        },
        "id": "XB9jB7tzwmQP",
        "outputId": "84345bb0-9976-4f7a-b633-8aa486a5d0dc"
      },
      "source": [
        "from binarytree import build\r\n",
        "\r\n",
        "def bst_tree(bst_list,target):\r\n",
        "  values = [10,5,25,2,5,13,22,1,14]\r\n",
        "  root = build(values)\r\n",
        "  print(root)\r\n",
        "  return root\r\n",
        "\r\n",
        "bst_list = [10,5,25,2,5,13,22,1,14]\r\n",
        "target =4\r\n",
        "output = bst_tree(bst_list,target)\r\n",
        "print(output)\r\n"
      ],
      "execution_count": null,
      "outputs": [
        {
          "output_type": "stream",
          "text": [
            "\n",
            "         __10___\n",
            "        /       \\\n",
            "    ___5        _25\n",
            "   /    \\      /   \\\n",
            "  2      5    13    22\n",
            " / \\\n",
            "1   14\n",
            "\n",
            "\n",
            "         __10___\n",
            "        /       \\\n",
            "    ___5        _25\n",
            "   /    \\      /   \\\n",
            "  2      5    13    22\n",
            " / \\\n",
            "1   14\n",
            "\n"
          ],
          "name": "stdout"
        }
      ]
    },
    {
      "cell_type": "code",
      "metadata": {
        "colab": {
          "base_uri": "https://localhost:8080/"
        },
        "id": "zTJVtXKtQMPh",
        "outputId": "cf27969e-9929-42dd-92fb-636d21b752fc"
      },
      "source": [
        "pip install self_balancing_binary_search_tree"
      ],
      "execution_count": null,
      "outputs": [
        {
          "output_type": "stream",
          "text": [
            "Collecting self_balancing_binary_search_tree\n",
            "  Downloading https://files.pythonhosted.org/packages/20/d7/c48e0b5ba5e57aac695bcdc33834ac6ae5b856d326b1d229aa93c3264056/self_balancing_binary_search_tree-0.1.4.tar.gz\n",
            "Building wheels for collected packages: self-balancing-binary-search-tree\n",
            "  Building wheel for self-balancing-binary-search-tree (setup.py) ... \u001b[?25l\u001b[?25hdone\n",
            "  Created wheel for self-balancing-binary-search-tree: filename=self_balancing_binary_search_tree-0.1.4-cp36-none-any.whl size=8087 sha256=be484648fa9ac5ac3616fb6dc9e95e5bc91a36f8b35097f35b2cfbd915646c0e\n",
            "  Stored in directory: /root/.cache/pip/wheels/ac/e5/33/acf50724c6b32d5f04b98c72810ad5bae9110066d0b083fc4b\n",
            "Successfully built self-balancing-binary-search-tree\n",
            "Installing collected packages: self-balancing-binary-search-tree\n",
            "Successfully installed self-balancing-binary-search-tree-0.1.4\n"
          ],
          "name": "stdout"
        }
      ]
    },
    {
      "cell_type": "code",
      "metadata": {
        "colab": {
          "base_uri": "https://localhost:8080/"
        },
        "id": "v_QMJ9S7bX8x",
        "outputId": "6e0e36f9-f84a-4007-a2af-41c20775d4d5"
      },
      "source": [
        "from self_balancing_binary_search_tree import SBBST\r\n",
        "ST = SBBST()\r\n",
        "nums = [1,2,5,10,5,15,13,22,14] # random numbers\r\n",
        "nums.sort()\r\n",
        "print(\"nums:\",nums)\r\n",
        "for num in nums:\r\n",
        "    ST.insert(num)\r\n",
        "# It also works out: ST = SBBST(nums)\r\n",
        "print(ST)\r\n",
        "print(\"Number of elements:\",ST.getSize())\r\n",
        "print(\"Height:\",ST.getHeightTree())\r\n",
        "print(\"Min val:\",ST.getMinVal())\r\n",
        "print(\"Max val:\",ST.getMaxVal())\r\n",
        "print(\"3rd smallest val:\",ST.kthsmallest(3))\r\n",
        "print(\"2nd largest val:\",ST.kthlargest(2))\r\n",
        "print(\"Pre Order:\",ST.inOrder())\r\n",
        "print(\"In Order:\",ST.preOrder())\r\n",
        "print(\"Post Order:\",ST.postOrder())\r\n",
        "ST.delete(128)\r\n",
        "ST.delete(140)\r\n",
        "print(ST)\r\n",
        "ST.insert(55)\r\n",
        "print(ST)\r\n",
        "print(\"Number of elements:\",ST.getSize())"
      ],
      "execution_count": null,
      "outputs": [
        {
          "output_type": "stream",
          "text": [
            "nums: [1, 2, 5, 5, 10, 13, 14, 15, 22]\n",
            "\n",
            "   _5__\n",
            "  /    \\ \n",
            "  2    13__\n",
            " / \\  /    \\ \n",
            " 1 5 10    15\n",
            "          /  \\ \n",
            "         14  22\n",
            "\n",
            "Number of elements: 9\n",
            "Height: 4\n",
            "Min val: 1\n",
            "Max val: 22\n",
            "3rd smallest val: 5\n",
            "2nd largest val: 15\n",
            "Pre Order: [1, 2, 5, 5, 10, 13, 14, 15, 22]\n",
            "In Order: [5, 2, 1, 5, 13, 10, 15, 14, 22]\n",
            "Post Order: [1, 5, 2, 10, 14, 22, 15, 13, 5]\n",
            "\n",
            "   _5__\n",
            "  /    \\ \n",
            "  2    13__\n",
            " / \\  /    \\ \n",
            " 1 5 10    15\n",
            "          /  \\ \n",
            "         14  22\n",
            "\n",
            "\n",
            "   _5______\n",
            "  /        \\ \n",
            "  2      __15\n",
            " / \\    /    \\ \n",
            " 1 5   13    22\n",
            "      /  \\     \\ \n",
            "     10  14    55\n",
            "\n",
            "Number of elements: 10\n"
          ],
          "name": "stdout"
        }
      ]
    },
    {
      "cell_type": "code",
      "metadata": {
        "id": "qpOrQhFUb4AP"
      },
      "source": [
        "class Node:\r\n",
        "    def __init__(self, val):\r\n",
        "        self.l_child = None\r\n",
        "        self.r_child = None\r\n",
        "        self.data = val\r\n",
        "\r\n",
        "def binary_insert(root, node):\r\n",
        "    if root is None:\r\n",
        "        root = node\r\n",
        "    else:\r\n",
        "        if root.data > node.data:\r\n",
        "            if root.l_child is None:\r\n",
        "                root.l_child = node\r\n",
        "            else:\r\n",
        "                binary_insert(root.l_child, node)\r\n",
        "        else:\r\n",
        "            if root.r_child is None:\r\n",
        "                root.r_child = node\r\n",
        "            else:\r\n",
        "                binary_insert(root.r_child, node)"
      ],
      "execution_count": null,
      "outputs": []
    },
    {
      "cell_type": "code",
      "metadata": {
        "id": "sQxunke-b0mZ"
      },
      "source": [
        ""
      ],
      "execution_count": null,
      "outputs": []
    },
    {
      "cell_type": "code",
      "metadata": {
        "colab": {
          "base_uri": "https://localhost:8080/"
        },
        "id": "zpw3txTZS10u",
        "outputId": "24606237-d331-44e5-e21d-d58e09450691"
      },
      "source": [
        "pip install sbbst"
      ],
      "execution_count": null,
      "outputs": [
        {
          "output_type": "stream",
          "text": [
            "Collecting sbbst\n",
            "  Downloading https://files.pythonhosted.org/packages/ad/d6/0ea8facdc54edae0c8f2a594e0601bda86ae7398f91e0b26ee82c981a483/sbbst-1.0-py3-none-any.whl\n",
            "Installing collected packages: sbbst\n",
            "Successfully installed sbbst-1.0\n"
          ],
          "name": "stdout"
        }
      ]
    },
    {
      "cell_type": "code",
      "metadata": {
        "colab": {
          "base_uri": "https://localhost:8080/"
        },
        "id": "u7xi5ePSagBB",
        "outputId": "dae5bff9-d747-4db9-bee8-d56d1635fa9e"
      },
      "source": [
        "print('Hello')"
      ],
      "execution_count": null,
      "outputs": [
        {
          "output_type": "stream",
          "text": [
            "Hello\n"
          ],
          "name": "stdout"
        }
      ]
    },
    {
      "cell_type": "code",
      "metadata": {
        "id": "MIZ5oSc-ane2"
      },
      "source": [
        "def sum_fun(*a):\n",
        "    print(a)\n",
        "    SUM=0\n",
        "    for num in a:\n",
        "      for i in num:\n",
        "        print(i)\n",
        "        SUM += i\n",
        "        print(SUM)\n",
        "      return SUM\n",
        " \n",
        "x = list(map(int, input(\"Enter a multiple value: \").split(',')))\n",
        "print(\"List of students: \", x)\n",
        "sum_fun(x)"
      ],
      "execution_count": null,
      "outputs": []
    },
    {
      "cell_type": "code",
      "metadata": {
        "id": "hVGVnt4RUR8S"
      },
      "source": [
        ""
      ],
      "execution_count": null,
      "outputs": []
    },
    {
      "cell_type": "code",
      "metadata": {
        "id": "4RW1huc2USQk"
      },
      "source": [
        ""
      ],
      "execution_count": null,
      "outputs": []
    },
    {
      "cell_type": "code",
      "metadata": {
        "colab": {
          "base_uri": "https://localhost:8080/"
        },
        "id": "9vILd87AUSUy",
        "outputId": "21ab49e6-056e-453b-894f-127d26751b47"
      },
      "source": [
        "import array as arr\r\n",
        "\r\n",
        "input_value=[]\r\n",
        "target_sum=0\r\n",
        "try:\r\n",
        "  input_value = list(map(int, input(\"Enter a multiple value: \").split(',')))\r\n",
        "  print(input_value)\r\n",
        "  input_value=arr.array('i',input_value)\r\n",
        "  target_sum = int(input(\"Enter a target sum: \"))\r\n",
        "  \r\n",
        "  if input_value:\r\n",
        "    print(\"Array has values:\",input_value)\r\n",
        "      \r\n",
        "except ValueError:\r\n",
        "  if not input_value:\r\n",
        "    print(\"Empty Array:\",input_value,\"\\n Please enter a valid input\")\r\n",
        "\r\n",
        "for i in input_value:\r\n",
        "  for j in input_value:\r\n",
        "    if (i!=j):\r\n",
        "      if (i+j) == target_sum:\r\n",
        "        print(\"The sum of {} {}\".format(i,j),\"is equal to target sum {}\".format(target_sum),\"Returning \",i,j)\r\n",
        "        \r\n",
        "    #if (i+j) != target_sum:\r\n",
        "      #print(\"The sum of {} {}\".format(i,j),\"is not equal to target sum {}\".format(target_sum),\"Returning\",[])\r\n",
        "    \r\n",
        "\r\n",
        "          \r\n",
        "\r\n",
        "\r\n",
        "\r\n",
        "\r\n",
        "\r\n",
        " \r\n"
      ],
      "execution_count": null,
      "outputs": [
        {
          "output_type": "stream",
          "text": [
            "Enter a multiple value: 3,5,-4,8,11,1,-1,6,5\n",
            "[3, 5, -4, 8, 11, 1, -1, 6, 5]\n",
            "Enter a target sum: 10\n",
            "Array has values: array('i', [3, 5, -4, 8, 11, 1, -1, 6, 5])\n",
            "The sum of 11 -1 is equal to target sum 10 Returning  11 -1\n",
            "The sum of -1 11 is equal to target sum 10 Returning  -1 11\n"
          ],
          "name": "stdout"
        }
      ]
    },
    {
      "cell_type": "code",
      "metadata": {
        "colab": {
          "base_uri": "https://localhost:8080/"
        },
        "id": "H9BuPNwbdXmK",
        "outputId": "04e29dff-53a2-4d94-c9aa-49a6a7acb169"
      },
      "source": [
        "import array as arr\r\n",
        "\r\n",
        "input_value=[]\r\n",
        "target_sum=0\r\n",
        "input_length = len(input_value)-1   \r\n",
        "start = 0\r\n",
        "i=0\r\n",
        "\r\n",
        "\r\n",
        "try:\r\n",
        "  input_value = list(map(int, input(\"Enter a multiple value: \").split(',')))\r\n",
        "  print(input_value)\r\n",
        "  input_value=arr.array('i',input_value)\r\n",
        "  target_sum = int(input(\"Enter a target sum: \"))\r\n",
        "  \r\n",
        "  if input_value:\r\n",
        "    print(\"Array has values:\",input_value)\r\n",
        "      \r\n",
        "except ValueError:\r\n",
        "  if not input_value:\r\n",
        "    print(\"Empty Array:\",input_value,\"\\n Please enter a valid input\")\r\n",
        "\r\n",
        "def sample_sum_test(input_value,input_length,target_sum):\r\n",
        "  input_index =0\r\n",
        "  print(input_value,input_length,target_sum)\r\n",
        "  for input_index in range(0,input_length):\r\n",
        "    #if ((input_value[input_index] + input_value[input_index+1]) != target_sum ):\r\n",
        "    print(\"No two numbers sum to target\")\r\n",
        "    input_index +=1\r\n",
        "  return input_value[input_index],input_value[input_index+1]\r\n",
        "\r\n",
        "\r\n",
        "x=sample_sum_test(input_value,input_length,target_sum)\r\n",
        "print(x)\r\n"
      ],
      "execution_count": null,
      "outputs": [
        {
          "output_type": "stream",
          "text": [
            "Enter a multiple value: 3,5,-4,8,11,1,-1,6\n",
            "[3, 5, -4, 8, 11, 1, -1, 6]\n",
            "Enter a target sum: 10\n",
            "Array has values: array('i', [3, 5, -4, 8, 11, 1, -1, 6])\n",
            "array('i', [3, 5, -4, 8, 11, 1, -1, 6]) -1 10\n",
            "(3, 5)\n"
          ],
          "name": "stdout"
        }
      ]
    },
    {
      "cell_type": "code",
      "metadata": {
        "id": "QC4M5cXYmlOm"
      },
      "source": [
        ""
      ],
      "execution_count": null,
      "outputs": []
    },
    {
      "cell_type": "code",
      "metadata": {
        "colab": {
          "base_uri": "https://localhost:8080/"
        },
        "id": "scCcVKMXs7Bf",
        "outputId": "258976bf-89d8-4bef-8004-1a812ea2fcd9"
      },
      "source": [
        "# Function to find a pair in an array with a given sum using hashing\r\n",
        "def findPair(A, sum):\r\n",
        " \r\n",
        "    # create an empty dictionary\r\n",
        "    dict = {}\r\n",
        " \r\n",
        "    # do for each element\r\n",
        "    for i, e in enumerate(A):\r\n",
        " \r\n",
        "        # check if pair (e, sum-e) exists\r\n",
        "        print(\"i\",i)\r\n",
        "        print(\"e\",e)\r\n",
        "        # if the difference is seen before, print the pair\r\n",
        "        if sum - e in dict:\r\n",
        "            print(i,'/////////////////')\r\n",
        "            print(sum)\r\n",
        "            print(e)\r\n",
        "            print(sum - e, '1111111111111')\r\n",
        "            print(dict)\r\n",
        "            print(\"Pair found at index\", dict.get(sum - e), \"and\", i)\r\n",
        "            return\r\n",
        "\r\n",
        " \r\n",
        "        # store index of the current element in the dictionary\r\n",
        "        dict[e] = i\r\n",
        "        print(\"dict[e]\",dict[e])\r\n",
        " \r\n",
        "    # No pair with the given sum exists in the list\r\n",
        "    print(\"Pair not found\")\r\n",
        " \r\n",
        " \r\n",
        "if __name__ == '__main__':\r\n",
        " \r\n",
        "    A = [3,5,-4,8,11,1,-1,6]\r\n",
        "    sum = 10\r\n",
        " \r\n",
        "    findPair(A, sum)\r\n",
        " "
      ],
      "execution_count": null,
      "outputs": [
        {
          "output_type": "stream",
          "text": [
            "i 0\n",
            "e 3\n",
            "dict[e] 0\n",
            "i 1\n",
            "e 5\n",
            "dict[e] 1\n",
            "i 2\n",
            "e -4\n",
            "dict[e] 2\n",
            "i 3\n",
            "e 8\n",
            "dict[e] 3\n",
            "i 4\n",
            "e 11\n",
            "dict[e] 4\n",
            "i 5\n",
            "e 1\n",
            "dict[e] 5\n",
            "i 6\n",
            "e -1\n",
            "6 /////////////////\n",
            "10\n",
            "-1\n",
            "11 1111111111111\n",
            "{3: 0, 5: 1, -4: 2, 8: 3, 11: 4, 1: 5}\n",
            "Pair found at index 4 and 6\n"
          ],
          "name": "stdout"
        }
      ]
    },
    {
      "cell_type": "code",
      "metadata": {
        "colab": {
          "base_uri": "https://localhost:8080/"
        },
        "id": "VLcRB6H4s6ya",
        "outputId": "f0861742-16a7-425a-af3f-6cac498506f5"
      },
      "source": [
        "def subsequent_test(input_array,subseq_array):\r\n",
        "  hash_list=[]\r\n",
        "  i=0\r\n",
        "  for index in range(len(input_array)):\r\n",
        "    print(\"index\",index)\r\n",
        "    if((i<=len(subseq_array)-1)):\r\n",
        "      print(\"hai\")\r\n",
        "      if((input_array[index] == subseq_array[i])):\r\n",
        "        hash_list.append(subseq_array[i])\r\n",
        "        print(\"Sequence found are:\",hash_list)\r\n",
        "        i +=1\r\n",
        "  if (hash_list == subseq_array): \r\n",
        "    return True\r\n",
        "  elif (hash_list != subseq_array):\r\n",
        "    return False             \r\n",
        "  \r\n",
        "output = subsequent_test([5,1,22,25,6,-1,8,10],[1,6,-1,10])\r\n",
        "print(output)\r\n",
        "\r\n"
      ],
      "execution_count": null,
      "outputs": [
        {
          "output_type": "stream",
          "text": [
            "index 0\n",
            "hai\n",
            "index 1\n",
            "hai\n",
            "Sequence found are: [1]\n",
            "index 2\n",
            "hai\n",
            "index 3\n",
            "hai\n",
            "index 4\n",
            "hai\n",
            "Sequence found are: [1, 6]\n",
            "index 5\n",
            "hai\n",
            "Sequence found are: [1, 6, -1]\n",
            "index 6\n",
            "hai\n",
            "index 7\n",
            "hai\n",
            "Sequence found are: [1, 6, -1, 10]\n",
            "True\n"
          ],
          "name": "stdout"
        }
      ]
    },
    {
      "cell_type": "code",
      "metadata": {
        "id": "noziv01lDrdZ"
      },
      "source": [
        ""
      ],
      "execution_count": null,
      "outputs": []
    },
    {
      "cell_type": "code",
      "metadata": {
        "colab": {
          "base_uri": "https://localhost:8080/"
        },
        "id": "iggQeUejA3Hr",
        "outputId": "6b2fb3d9-ed27-4f5e-fce6-937bb83502d5"
      },
      "source": [
        "def bst_search(input_array,target):\n",
        "    hash_list_small=[]\n",
        "    hash_list_large=[]\n",
        "    mid_index = 0\n",
        "    round_min = 0\n",
        "    input_array.sort()\n",
        "    #full_input_array.sort()\n",
        "    \n",
        "    #for i in full_input_array:\n",
        "    #  if i not in input_array:\n",
        "    #    input_array.append(i)\n",
        "    mid_index = (len(input_array)-1)/2\n",
        "    mid_index = round(mid_index)\n",
        "    root_node = input_array[mid_index]\n",
        "    print(\"Root_Node::\",root_node)\n",
        "\n",
        "    input_array.remove(root_node)\n",
        "    print(\"input_array::\",input_array)\n",
        "        \n",
        "    for index in range(len(input_array)):\n",
        "        if (input_array[index]<=root_node):\n",
        "          hash_list_small.append(input_array[index])\n",
        "          print(\"hash_list smaller:: \",hash_list_small)  \n",
        "         \n",
        "        if (input_array[index]>=root_node):\n",
        "          hash_list_large.append(input_array[index])\n",
        "          print(\"hash_list Greater:: \",hash_list_large)\n",
        "\n",
        "    \n",
        "\n",
        "    for i in range(target):\n",
        "      if (target<=root_node):\n",
        "        print(\"loop 1\")\n",
        "        for minimal in range(len(hash_list_small)):\n",
        "          print(\"minimal\")\n",
        "          if (minimal<len(hash_list_small)-1):\n",
        "            round_min = round_value(hash_list_small[minimal],hash_list_small[minimal+1])\n",
        "            print(\"hash_list_small[minimal],hash_list_small[minimal+1\",hash_list_small[minimal],hash_list_small[minimal+1]) \n",
        "            if (round_min < target and round_min > hash_list_small[minimal+1]):\n",
        "              print(\"minimal 2::\",hash_list_small[minimal])\n",
        "              return hash_list_small[minimal]\n",
        "            if (round_min > target and round_min < hash_list_small[minimal+1]):\n",
        "              print(\"minimal 3::\",hash_list_small[minimal+1])\n",
        "              return hash_list_small[minimal+1]  \n",
        "            if hash_list_small[minimal] == target:\n",
        "              print(\"min::\",hash_list_small[minimal])\n",
        "              return hash_list_small[minimal]\n",
        "            if (max(hash_list_small)<target and root_node>target):\n",
        "              if (max(hash_list_small)<target):\n",
        "                print(\"max of small :\",max(hash_list_small))\n",
        "                return mini_maxi_cal(hash_list_small,minimal,target)\n",
        "              elif (root_node>target):\n",
        "                print(\"root 1:\",root_node)\n",
        "                return mini_maxi_cal(hash_list_small,minimal,target)\n",
        "           \n",
        "                \n",
        "      if (target>=root_node):\n",
        "        print(\"loop 2\")\n",
        "        for maximal in range(len(hash_list_large)):\n",
        "          print(\"maximal\")\n",
        "          if hash_list_large[maximal] == target:\n",
        "            print(\"min::\",hash_list_large[maximal])\n",
        "            return hash_list_large[maximal]\n",
        "          if (root_node < target and min(hash_list_large)>target):\n",
        "            if (root_node < target):\n",
        "              print(\"max of small :\",min(hash_list_large))\n",
        "              return mini_maxi_cal(hash_list_large,maximal,target)\n",
        "            elif (root_node>target):\n",
        "              print(\"root 1:\",root_node)\n",
        "              return mini_maxi_cal(hash_list_large,maximal,target) \n",
        "          elif (hash_list_large[maximal] < target and target > hash_list_large[maximal+1]):\n",
        "              print(\"minimal 2::\",mini_maxi_cal(hash_list_large,maximal,target))\n",
        "              return mini_maxi_cal(hash_list_large,maximal,target)       \n",
        "      if (target == root_node):\n",
        "        print(\"output root equals target::\",target)  \n",
        "        return root_node\n",
        "\n",
        "def mini_maxi_cal(list_small,minimal,target):\n",
        "  print(\"list_small[minimal],list_small[minimal+1]\",list_small[minimal],list_small[minimal+1])\n",
        "  mini = round_value(list_small,minimal)\n",
        "  if (mini<target and list_small[minimal]<target):\n",
        "    print(\"mini 1:\",list_small[minimal])\n",
        "    return list_small[minimal]\n",
        "  elif (mini>target and list_small[minimal+1]>target):\n",
        "    print(\"mini 2:\",list_small[minimal+1])\n",
        "    return list_small[minimal+1]\n",
        "\n",
        "def round_value(list_small,list_small_1):\n",
        "  print(\"list_small,list_small+1 :: \",list_small,list_small+1)\n",
        "  mini = (list_small+list_small_1)/2\n",
        "  mini = round(mini)\n",
        "  print(\"Round mini :\",mini)\n",
        "  return mini    \n",
        "                                                 \n",
        " \n",
        "input_type = [10,5,25,2,5,13,22,1,14]\n",
        "target = 4\n",
        "a = bst_search(input_type,target)\n",
        "\n",
        "\n",
        "print(\"Closet value to \",target,\" is \",a)"
      ],
      "execution_count": null,
      "outputs": [
        {
          "output_type": "stream",
          "text": [
            "Root_Node:: 10\n",
            "input_array:: [1, 2, 5, 5, 13, 14, 22, 25]\n",
            "hash_list smaller::  [1]\n",
            "hash_list smaller::  [1, 2]\n",
            "hash_list smaller::  [1, 2, 5]\n",
            "hash_list smaller::  [1, 2, 5, 5]\n",
            "hash_list Greater::  [13]\n",
            "hash_list Greater::  [13, 14]\n",
            "hash_list Greater::  [13, 14, 22]\n",
            "hash_list Greater::  [13, 14, 22, 25]\n",
            "loop 1\n",
            "minimal\n",
            "list_small,list_small+1 ::  1 2\n",
            "Round mini : 2\n",
            "hash_list_small[minimal],hash_list_small[minimal+1 1 2\n",
            "minimal\n",
            "list_small,list_small+1 ::  2 3\n",
            "Round mini : 4\n",
            "hash_list_small[minimal],hash_list_small[minimal+1 2 5\n",
            "minimal\n",
            "list_small,list_small+1 ::  5 6\n",
            "Round mini : 5\n",
            "hash_list_small[minimal],hash_list_small[minimal+1 5 5\n",
            "minimal\n",
            "loop 1\n",
            "minimal\n",
            "list_small,list_small+1 ::  1 2\n",
            "Round mini : 2\n",
            "hash_list_small[minimal],hash_list_small[minimal+1 1 2\n",
            "minimal\n",
            "list_small,list_small+1 ::  2 3\n",
            "Round mini : 4\n",
            "hash_list_small[minimal],hash_list_small[minimal+1 2 5\n",
            "minimal\n",
            "list_small,list_small+1 ::  5 6\n",
            "Round mini : 5\n",
            "hash_list_small[minimal],hash_list_small[minimal+1 5 5\n",
            "minimal\n",
            "loop 1\n",
            "minimal\n",
            "list_small,list_small+1 ::  1 2\n",
            "Round mini : 2\n",
            "hash_list_small[minimal],hash_list_small[minimal+1 1 2\n",
            "minimal\n",
            "list_small,list_small+1 ::  2 3\n",
            "Round mini : 4\n",
            "hash_list_small[minimal],hash_list_small[minimal+1 2 5\n",
            "minimal\n",
            "list_small,list_small+1 ::  5 6\n",
            "Round mini : 5\n",
            "hash_list_small[minimal],hash_list_small[minimal+1 5 5\n",
            "minimal\n",
            "loop 1\n",
            "minimal\n",
            "list_small,list_small+1 ::  1 2\n",
            "Round mini : 2\n",
            "hash_list_small[minimal],hash_list_small[minimal+1 1 2\n",
            "minimal\n",
            "list_small,list_small+1 ::  2 3\n",
            "Round mini : 4\n",
            "hash_list_small[minimal],hash_list_small[minimal+1 2 5\n",
            "minimal\n",
            "list_small,list_small+1 ::  5 6\n",
            "Round mini : 5\n",
            "hash_list_small[minimal],hash_list_small[minimal+1 5 5\n",
            "minimal\n",
            "Closet value to  4  is  None\n"
          ],
          "name": "stdout"
        }
      ]
    },
    {
      "cell_type": "code",
      "metadata": {
        "colab": {
          "base_uri": "https://localhost:8080/"
        },
        "id": "r-xr3DFrHMH-",
        "outputId": "ff55a6ed-635b-4112-e3d3-c3b0e513974d"
      },
      "source": [
        "    input_array=[10,5,15,2,5,13,22,1,14]\r\n",
        "    input_array.sort()\r\n",
        "    #full_input_array.sort()\r\n",
        "    \r\n",
        "    #for i in full_input_array:\r\n",
        "    #  if i not in input_array:\r\n",
        "    #    input_array.append(i)\r\n",
        "    mid_index = (len(input_array)-1)/2\r\n",
        "    mid_index = round(mid_index)\r\n",
        "    print(\"mid_index\",mid_index)\r\n",
        "    root_node = input_array[mid_index]\r\n",
        "    print(\"Root_Node::\",root_node) "
      ],
      "execution_count": null,
      "outputs": [
        {
          "output_type": "stream",
          "text": [
            "mid_index 4\n",
            "Root_Node:: 10\n"
          ],
          "name": "stdout"
        }
      ]
    },
    {
      "cell_type": "code",
      "metadata": {
        "id": "ieqQzeeB1Gtd"
      },
      "source": [
        "class BTreeNode(object):\r\n",
        "    def __init__(self, data):\r\n",
        "            self.data = data\r\n",
        "            self.rChild = None\r\n",
        "            self.lChild = None\r\n",
        "\r\n",
        "    def __str__(self):\r\n",
        "        return (self.lChild.__str__() + '<-' if self.lChild != None else '') + self.data.__str__() + ('->' + self.rChild.__str__() if self.rChild != None else '')\r\n",
        "\r\n",
        "    def insert(self, btreeNode):\r\n",
        "        if self.data > btreeNode.data: #insert left\r\n",
        "            if self.lChild == None:\r\n",
        "                self.lChild = btreeNode\r\n",
        "            else:\r\n",
        "                self.lChild.insert(btreeNode)\r\n",
        "        else: #insert right\r\n",
        "            if self.rChild == None:\r\n",
        "                self.rChild = btreeNode\r\n",
        "            else:\r\n",
        "                self.rChild.insert(btreeNode)\r\n",
        "\r\n",
        "\r\n",
        "    def main():\r\n",
        "      btreeRoot = BTreeNode(1)\r\n",
        "      print ('inserted %s:' %1, btreeRoot)\r\n",
        "\r\n",
        "      btreeRoot.insert(BTreeNode(2))\r\n",
        "      print ('inserted %s:' %7, btreeRoot)\r\n",
        "\r\n",
        "      btreeRoot.insert(BTreeNode(5))\r\n",
        "      print ('inserted %s:' %5, btreeRoot)\r\n",
        "\r\n",
        "      btreeRoot.insert(BTreeNode(5))\r\n",
        "      print ('inserted %s:' %5, btreeRoot)\r\n",
        "\r\n",
        "      btreeRoot.insert(BTreeNode(10))\r\n",
        "      print ('inserted %s:' %10, btreeRoot)\r\n",
        "\r\n",
        "      btreeRoot.insert(BTreeNode(13))\r\n",
        "      print ('inserted %s:' %13, btreeRoot)\r\n",
        "\r\n",
        "      btreeRoot.insert(BTreeNode(14))\r\n",
        "      print ('inserted %s:' %14, btreeRoot)\r\n",
        "    \r\n",
        "      btreeRoot.insert(BTreeNode(15))\r\n",
        "      print ('inserted %s:' %15, btreeRoot)\r\n",
        "\r\n",
        "      btreeRoot.insert(BTreeNode(22))\r\n",
        "      print ('inserted %s:' %22, btreeRoot)\r\n"
      ],
      "execution_count": null,
      "outputs": []
    },
    {
      "cell_type": "code",
      "metadata": {
        "id": "XCnox_MOCbl8"
      },
      "source": [
        "#Linear Regression\r\n",
        "import numpy as np\r\n",
        "from sklearn.linear_model import LinearRegression"
      ],
      "execution_count": null,
      "outputs": []
    },
    {
      "cell_type": "code",
      "metadata": {
        "id": "c1-1m4wLBx3s"
      },
      "source": [
        "x = np.array([5, 15, 25, 35, 45, 55]).reshape((-1, 1))\r\n",
        "y = np.array([5, 20, 14, 32, 22, 38])\r\n"
      ],
      "execution_count": null,
      "outputs": []
    },
    {
      "cell_type": "code",
      "metadata": {
        "colab": {
          "base_uri": "https://localhost:8080/"
        },
        "id": "MgG-ShXAB54d",
        "outputId": "925aba09-4806-4659-e3ff-be4ea8b8984f"
      },
      "source": [
        "print(x)"
      ],
      "execution_count": null,
      "outputs": [
        {
          "output_type": "stream",
          "text": [
            "[[ 5]\n",
            " [15]\n",
            " [25]\n",
            " [35]\n",
            " [45]\n",
            " [55]]\n"
          ],
          "name": "stdout"
        }
      ]
    },
    {
      "cell_type": "code",
      "metadata": {
        "colab": {
          "base_uri": "https://localhost:8080/"
        },
        "id": "qt2IyGzgB9V5",
        "outputId": "c37c8708-5f23-4a6d-c2f6-342daadd08ec"
      },
      "source": [
        "print(y)"
      ],
      "execution_count": null,
      "outputs": [
        {
          "output_type": "stream",
          "text": [
            "[ 5 20 14 32 22 38]\n"
          ],
          "name": "stdout"
        }
      ]
    },
    {
      "cell_type": "code",
      "metadata": {
        "id": "lXzIZ5-hB_2D"
      },
      "source": [
        "model = LinearRegression().fit(x, y)"
      ],
      "execution_count": null,
      "outputs": []
    },
    {
      "cell_type": "code",
      "metadata": {
        "colab": {
          "base_uri": "https://localhost:8080/"
        },
        "id": "7HZ6xEbqCOV5",
        "outputId": "d884cee4-c5a9-41e5-c131-f9bad3100aaf"
      },
      "source": [
        "r_sq = model.score(x, y)\r\n",
        "print('coefficient of determination:', r_sq)"
      ],
      "execution_count": null,
      "outputs": [
        {
          "output_type": "stream",
          "text": [
            "coefficient of determination: 0.7158756137479542\n"
          ],
          "name": "stdout"
        }
      ]
    },
    {
      "cell_type": "code",
      "metadata": {
        "colab": {
          "base_uri": "https://localhost:8080/"
        },
        "id": "Ju8PvwxECURJ",
        "outputId": "1a92843d-3f0c-4cca-ca80-1e95b178596d"
      },
      "source": [
        "print('intercept:', model.intercept_)\r\n",
        "print('slope:', model.coef_)"
      ],
      "execution_count": null,
      "outputs": [
        {
          "output_type": "stream",
          "text": [
            "intercept: 5.633333333333329\n",
            "slope: [0.54]\n"
          ],
          "name": "stdout"
        }
      ]
    },
    {
      "cell_type": "code",
      "metadata": {
        "colab": {
          "base_uri": "https://localhost:8080/"
        },
        "id": "nZtJOECODnMs",
        "outputId": "1c56ef1e-9b06-475d-c036-a8a346cc1588"
      },
      "source": [
        "new_model = LinearRegression().fit(x, y.reshape((-1, 1)))\r\n",
        "print('intercept:', new_model.intercept_)\r\n",
        "print('slope:', new_model.coef_)"
      ],
      "execution_count": null,
      "outputs": [
        {
          "output_type": "stream",
          "text": [
            "intercept: [5.63333333]\n",
            "slope: [[0.54]]\n"
          ],
          "name": "stdout"
        }
      ]
    },
    {
      "cell_type": "code",
      "metadata": {
        "id": "HcgdALcVESUr"
      },
      "source": [
        "y_pred = model.predict(x)"
      ],
      "execution_count": null,
      "outputs": []
    },
    {
      "cell_type": "code",
      "metadata": {
        "colab": {
          "base_uri": "https://localhost:8080/"
        },
        "id": "D10eNd-pEXG-",
        "outputId": "e559a3f2-20ab-4b18-a849-9d4f87ec9f1f"
      },
      "source": [
        "print('predicted response:', y_pred, sep='\\n')"
      ],
      "execution_count": null,
      "outputs": [
        {
          "output_type": "stream",
          "text": [
            "predicted response:\n",
            "[ 8.33333333 13.73333333 19.13333333 24.53333333 29.93333333 35.33333333]\n"
          ],
          "name": "stdout"
        }
      ]
    },
    {
      "cell_type": "code",
      "metadata": {
        "colab": {
          "base_uri": "https://localhost:8080/"
        },
        "id": "UxdPtiJoEZiH",
        "outputId": "21fee34a-7eca-4535-d6f6-4c61a4ba926e"
      },
      "source": [
        "y_pred = model.intercept_ + model.coef_ * x\r\n",
        "print('predicted response:', y_pred, sep='\\n')"
      ],
      "execution_count": null,
      "outputs": [
        {
          "output_type": "stream",
          "text": [
            "predicted response:\n",
            "[[ 8.33333333]\n",
            " [13.73333333]\n",
            " [19.13333333]\n",
            " [24.53333333]\n",
            " [29.93333333]\n",
            " [35.33333333]]\n"
          ],
          "name": "stdout"
        }
      ]
    },
    {
      "cell_type": "code",
      "metadata": {
        "colab": {
          "base_uri": "https://localhost:8080/"
        },
        "id": "KZKcsc8ZEnPD",
        "outputId": "981c364c-8393-4fbf-dc20-f2fbd767ff57"
      },
      "source": [
        "import numpy as np\r\n",
        "from sklearn.linear_model import LinearRegression\r\n",
        "x = np.array([5, 15, 25, 35, 45, 55]).reshape((-1, 1))\r\n",
        "y = np.array([5, 20, 14, 32, 22, 38])\r\n",
        "new_model = LinearRegression().fit(x, y.reshape((-1, 1)))\r\n",
        "print('intercept:', new_model.intercept_)\r\n",
        "print('slope:', new_model.coef_)\r\n",
        "y_pred = new_model.predict(x)\r\n",
        "print('predicted response:', y_pred, sep='\\n')\r\n",
        "y_pred = new_model.intercept_ + new_model.coef_ * x\r\n",
        "print('predicted response:', y_pred, sep='\\n')"
      ],
      "execution_count": null,
      "outputs": [
        {
          "output_type": "stream",
          "text": [
            "intercept: [5.63333333]\n",
            "slope: [[0.54]]\n",
            "predicted response:\n",
            "[[ 8.33333333]\n",
            " [13.73333333]\n",
            " [19.13333333]\n",
            " [24.53333333]\n",
            " [29.93333333]\n",
            " [35.33333333]]\n",
            "predicted response:\n",
            "[[ 8.33333333]\n",
            " [13.73333333]\n",
            " [19.13333333]\n",
            " [24.53333333]\n",
            " [29.93333333]\n",
            " [35.33333333]]\n"
          ],
          "name": "stdout"
        }
      ]
    },
    {
      "cell_type": "code",
      "metadata": {
        "colab": {
          "base_uri": "https://localhost:8080/"
        },
        "id": "3bR8SxQfkGZM",
        "outputId": "94218a13-9cb3-4758-ffaf-2d86bff3d7cf"
      },
      "source": [
        "# Multiple Linear Regression\r\n",
        "import numpy as np\r\n",
        "from sklearn.linear_model import LinearRegression\r\n",
        "\r\n",
        "x = [[0, 1], [5, 1], [15, 2], [25, 5], [35, 11], [45, 15], [55, 34], [60, 35]]\r\n",
        "y = [4, 5, 20, 14, 32, 22, 38, 43]\r\n",
        "x, y = np.array(x), np.array(y)\r\n",
        "print(\"X:\",x)\r\n",
        "print(\"Y:\",y)\r\n",
        "model = LinearRegression().fit(x, y)\r\n",
        "r_sq = model.score(x, y)\r\n",
        "print('coefficient of determination:', r_sq)\r\n",
        "print('intercept:', model.intercept_)\r\n",
        "print('slope:', model.coef_)\r\n",
        "y_pred = model.predict(x)\r\n",
        "print('predicted response:', y_pred, sep='\\n')\r\n",
        "y_pred = model.intercept_ + np.sum(model.coef_ * x, axis=1)\r\n",
        "print('predicted response:', y_pred, sep='\\n')\r\n"
      ],
      "execution_count": null,
      "outputs": [
        {
          "output_type": "stream",
          "text": [
            "X: [[ 0  1]\n",
            " [ 5  1]\n",
            " [15  2]\n",
            " [25  5]\n",
            " [35 11]\n",
            " [45 15]\n",
            " [55 34]\n",
            " [60 35]]\n",
            "Y: [ 4  5 20 14 32 22 38 43]\n",
            "coefficient of determination: 0.8615939258756776\n",
            "intercept: 5.52257927519819\n",
            "slope: [0.44706965 0.25502548]\n",
            "predicted response:\n",
            "[ 5.77760476  8.012953   12.73867497 17.9744479  23.97529728 29.4660957\n",
            " 38.78227633 41.27265006]\n",
            "predicted response:\n",
            "[ 5.77760476  8.012953   12.73867497 17.9744479  23.97529728 29.4660957\n",
            " 38.78227633 41.27265006]\n"
          ],
          "name": "stdout"
        }
      ]
    },
    {
      "cell_type": "code",
      "metadata": {
        "colab": {
          "base_uri": "https://localhost:8080/"
        },
        "id": "CamnwJpll1kJ",
        "outputId": "5e6d39d0-c0b4-4ed2-8c7e-43f5ce565a65"
      },
      "source": [
        "# Multiple Linear Regression\r\n",
        "import numpy as np\r\n",
        "from sklearn.linear_model import LinearRegression\r\n",
        "x_new = np.arange(10).reshape((-1, 1))\r\n",
        "print(\"x_new:\",x_new)\r\n",
        "y_new = model.predict(x_new)\r\n",
        "print(y_new)"
      ],
      "execution_count": null,
      "outputs": [
        {
          "output_type": "stream",
          "text": [
            "x_new: [[0]\n",
            " [1]\n",
            " [2]\n",
            " [3]\n",
            " [4]\n",
            " [5]\n",
            " [6]\n",
            " [7]\n",
            " [8]\n",
            " [9]]\n",
            "[ 5.63333333  6.17333333  6.71333333  7.25333333  7.79333333  8.33333333\n",
            "  8.87333333  9.41333333  9.95333333 10.49333333]\n"
          ],
          "name": "stdout"
        }
      ]
    },
    {
      "cell_type": "code",
      "metadata": {
        "colab": {
          "base_uri": "https://localhost:8080/"
        },
        "id": "DBFDKReFnHrN",
        "outputId": "a9e41662-e71a-4af5-c390-ca835b6f1250"
      },
      "source": [
        "# Polynomial Regression\r\n",
        "\r\n",
        "import numpy as np\r\n",
        "from sklearn.linear_model import LinearRegression\r\n",
        "from sklearn.preprocessing import PolynomialFeatures\r\n",
        "\r\n",
        "# Step 2a: Provide data\r\n",
        "x = [[0, 1], [5, 1], [15, 2], [25, 5], [35, 11], [45, 15], [55, 34], [60, 35]]\r\n",
        "y = [4, 5, 20, 14, 32, 22, 38, 43]\r\n",
        "x, y = np.array(x), np.array(y)\r\n",
        "\r\n",
        "# Step 2b: Transform input data\r\n",
        "x_ = PolynomialFeatures(degree=2, include_bias=False).fit_transform(x)\r\n",
        "\r\n",
        "# Step 3: Create a model and fit it\r\n",
        "model = LinearRegression().fit(x_, y)\r\n",
        "\r\n",
        "# Step 4: Get results\r\n",
        "r_sq = model.score(x_, y)\r\n",
        "intercept, coefficients = model.intercept_, model.coef_\r\n",
        "\r\n",
        "# Step 5: Predict\r\n",
        "y_pred = model.predict(x_)\r\n",
        "print('coefficient of determination:', r_sq)\r\n",
        "print('intercept:', intercept)\r\n",
        "print('coefficients:', coefficients, sep='\\n')\r\n",
        "print('predicted response:', y_pred, sep='\\n')\r\n"
      ],
      "execution_count": null,
      "outputs": [
        {
          "output_type": "stream",
          "text": [
            "coefficient of determination: 0.9453701449127822\n",
            "intercept: 0.843055645239577\n",
            "coefficients:\n",
            "[ 2.44828275  0.16160353 -0.15259677  0.47928683 -0.4641851 ]\n",
            "predicted response:\n",
            "[ 0.54047408 11.36340283 16.07809622 15.79139    29.73858619 23.50834636\n",
            " 39.05631386 41.92339046]\n"
          ],
          "name": "stdout"
        }
      ]
    },
    {
      "cell_type": "code",
      "metadata": {
        "colab": {
          "base_uri": "https://localhost:8080/"
        },
        "id": "VVQfIGdYqGEZ",
        "outputId": "22cbdf82-496f-4caa-faf2-810369829c88"
      },
      "source": [
        "# Linear Regression with StatsModel\r\n",
        "import numpy as np\r\n",
        "import statsmodels.api as sm\r\n",
        "x = [[0, 1], [5, 1], [15, 2], [25, 5], [35, 11], [45, 15], [55, 34], [60, 35]]\r\n",
        "y = [4, 5, 20, 14, 32, 22, 38, 43]\r\n",
        "x, y = np.array(x), np.array(y)\r\n",
        "x = sm.add_constant(x)\r\n",
        "print(x)\r\n",
        "print(y)\r\n",
        "model = sm.OLS(y, x)\r\n",
        "results = model.fit()\r\n",
        "print(results.summary())\r\n",
        "print('coefficient of determination:', results.rsquared)\r\n",
        "print('adjusted coefficient of determination:', results.rsquared_adj)\r\n",
        "print('regression coefficients:', results.params)\r\n",
        "print('predicted response fitted:', results.fittedvalues, sep='\\n')\r\n",
        "print('predicted response:', results.predict(x), sep='\\n')\r\n",
        "\r\n"
      ],
      "execution_count": null,
      "outputs": [
        {
          "output_type": "stream",
          "text": [
            "/usr/local/lib/python3.6/dist-packages/statsmodels/tools/_testing.py:19: FutureWarning: pandas.util.testing is deprecated. Use the functions in the public API at pandas.testing instead.\n",
            "  import pandas.util.testing as tm\n"
          ],
          "name": "stderr"
        },
        {
          "output_type": "stream",
          "text": [
            "[[ 1.  0.  1.]\n",
            " [ 1.  5.  1.]\n",
            " [ 1. 15.  2.]\n",
            " [ 1. 25.  5.]\n",
            " [ 1. 35. 11.]\n",
            " [ 1. 45. 15.]\n",
            " [ 1. 55. 34.]\n",
            " [ 1. 60. 35.]]\n",
            "[ 4  5 20 14 32 22 38 43]\n",
            "                            OLS Regression Results                            \n",
            "==============================================================================\n",
            "Dep. Variable:                      y   R-squared:                       0.862\n",
            "Model:                            OLS   Adj. R-squared:                  0.806\n",
            "Method:                 Least Squares   F-statistic:                     15.56\n",
            "Date:                Wed, 03 Feb 2021   Prob (F-statistic):            0.00713\n",
            "Time:                        02:21:15   Log-Likelihood:                -24.316\n",
            "No. Observations:                   8   AIC:                             54.63\n",
            "Df Residuals:                       5   BIC:                             54.87\n",
            "Df Model:                           2                                         \n",
            "Covariance Type:            nonrobust                                         \n",
            "==============================================================================\n",
            "                 coef    std err          t      P>|t|      [0.025      0.975]\n",
            "------------------------------------------------------------------------------\n",
            "const          5.5226      4.431      1.246      0.268      -5.867      16.912\n",
            "x1             0.4471      0.285      1.567      0.178      -0.286       1.180\n",
            "x2             0.2550      0.453      0.563      0.598      -0.910       1.420\n",
            "==============================================================================\n",
            "Omnibus:                        0.561   Durbin-Watson:                   3.268\n",
            "Prob(Omnibus):                  0.755   Jarque-Bera (JB):                0.534\n",
            "Skew:                           0.380   Prob(JB):                        0.766\n",
            "Kurtosis:                       1.987   Cond. No.                         80.1\n",
            "==============================================================================\n",
            "\n",
            "Warnings:\n",
            "[1] Standard Errors assume that the covariance matrix of the errors is correctly specified.\n",
            "coefficient of determination: 0.8615939258756776\n",
            "adjusted coefficient of determination: 0.8062314962259487\n",
            "regression coefficients: [5.52257928 0.44706965 0.25502548]\n",
            "predicted response fitted:\n",
            "[ 5.77760476  8.012953   12.73867497 17.9744479  23.97529728 29.4660957\n",
            " 38.78227633 41.27265006]\n",
            "predicted response:\n",
            "[ 5.77760476  8.012953   12.73867497 17.9744479  23.97529728 29.4660957\n",
            " 38.78227633 41.27265006]\n"
          ],
          "name": "stdout"
        },
        {
          "output_type": "stream",
          "text": [
            "/usr/local/lib/python3.6/dist-packages/scipy/stats/stats.py:1535: UserWarning: kurtosistest only valid for n>=20 ... continuing anyway, n=8\n",
            "  \"anyway, n=%i\" % int(n))\n"
          ],
          "name": "stderr"
        }
      ]
    },
    {
      "cell_type": "code",
      "metadata": {
        "colab": {
          "base_uri": "https://localhost:8080/"
        },
        "id": "yVQ_JgfJsZBo",
        "outputId": "38b4f4dd-d5de-4232-e625-b8da66ae4a8a"
      },
      "source": [
        "import numpy as np\r\n",
        "import statsmodels.api as sm\r\n",
        "x_new = sm.add_constant(np.arange(10).reshape((-1, 2)))\r\n",
        "print(\"x_new\",x_new)\r\n",
        "y_new = results.predict(x_new)\r\n",
        "print(\"y_new\",y_new)\r\n"
      ],
      "execution_count": null,
      "outputs": [
        {
          "output_type": "stream",
          "text": [
            "x_new [[1. 0. 1.]\n",
            " [1. 2. 3.]\n",
            " [1. 4. 5.]\n",
            " [1. 6. 7.]\n",
            " [1. 8. 9.]]\n",
            "y_new [ 5.77760476  7.18179502  8.58598528  9.99017554 11.3943658 ]\n"
          ],
          "name": "stdout"
        }
      ]
    },
    {
      "cell_type": "code",
      "metadata": {
        "id": "wz1rABrceh1n"
      },
      "source": [
        ""
      ],
      "execution_count": null,
      "outputs": []
    },
    {
      "cell_type": "code",
      "metadata": {
        "colab": {
          "base_uri": "https://localhost:8080/"
        },
        "id": "ew9XniVHtLKQ",
        "outputId": "f81bfe11-a3e3-46a2-e386-843c137ca16c"
      },
      "source": [
        "\r\n",
        "from sklearn import preprocessing\r\n",
        "#Import Gaussian Naive Bayes model\r\n",
        "from sklearn.naive_bayes import GaussianNB\r\n",
        "# Naive Bayes Classifier\r\n",
        "# Assigning features and label variables\r\n",
        "weather=['Sunny','Sunny','Overcast','Rainy','Rainy','Rainy','Overcast','Sunny','Sunny','Rainy','Sunny','Overcast','Overcast','Rainy']\r\n",
        "temp=['Hot','Hot','Hot','Mild','Cool','Cool','Cool','Mild','Cool','Mild','Mild','Mild','Hot','Mild']\r\n",
        "play=['No','No','Yes','Yes','Yes','No','Yes','No','Yes','Yes','Yes','Yes','Yes','No']\r\n",
        "\r\n",
        "#creating labelEncoder\r\n",
        "le = preprocessing.LabelEncoder()\r\n",
        "# Converting string labels into numbers.\r\n",
        "wheather_encoded=le.fit_transform(weather)\r\n",
        "print(\"weather_encoded , \",wheather_encoded)\r\n",
        "# Converting string labels into numbers\r\n",
        "temp_encoded=le.fit_transform(temp)\r\n",
        "label=le.fit_transform(play)\r\n",
        "print(\"Temp: \",temp_encoded)\r\n",
        "print(\"Play: \",label)\r\n",
        "\r\n",
        "#Combinig weather and temp into single listof tuples\r\n",
        "features=zip(wheather_encoded,temp_encoded)\r\n",
        "features_list = list(features)\r\n",
        "print(\"features_list: \",features_list)\r\n",
        "\r\n",
        "#Create a Gaussian Classifier\r\n",
        "model = GaussianNB()\r\n",
        "\r\n",
        "# Train the model using the training sets\r\n",
        "model.fit(features_list,label)\r\n",
        "\r\n",
        "#Predict Output\r\n",
        "predicted= model.predict([[0,2]]) # 0:Overcast, 2:Mild\r\n",
        "print(\"Predicted Value:\", predicted)\r\n",
        "\r\n",
        "\r\n"
      ],
      "execution_count": null,
      "outputs": [
        {
          "output_type": "stream",
          "text": [
            "weather_encoded ,  [2 2 0 1 1 1 0 2 2 1 2 0 0 1]\n",
            "Temp:  [1 1 1 2 0 0 0 2 0 2 2 2 1 2]\n",
            "Play:  [0 0 1 1 1 0 1 0 1 1 1 1 1 0]\n",
            "features_list:  [(2, 1), (2, 1), (0, 1), (1, 2), (1, 0), (1, 0), (0, 0), (2, 2), (2, 0), (1, 2), (2, 2), (0, 2), (0, 1), (1, 2)]\n",
            "Predicted Value: [1]\n"
          ],
          "name": "stdout"
        }
      ]
    },
    {
      "cell_type": "code",
      "metadata": {
        "colab": {
          "base_uri": "https://localhost:8080/"
        },
        "id": "fClUQgPGHFvo",
        "outputId": "d597ec0c-5962-409a-d397-a5eb3ace3122"
      },
      "source": [
        "#Import scikit-learn dataset library\r\n",
        "from sklearn import datasets\r\n",
        "\r\n",
        "# Import train_test_split function\r\n",
        "from sklearn.model_selection import train_test_split\r\n",
        "#Import Gaussian Naive Bayes model\r\n",
        "from sklearn.naive_bayes import GaussianNB\r\n",
        "#Import scikit-learn metrics module for accuracy calculation\r\n",
        "from sklearn import metrics\r\n",
        "%matplotlib inline\r\n",
        "import seaborn as sns\r\n",
        "#Load dataset\r\n",
        "wine = datasets.load_wine()\r\n",
        "\r\n",
        "# print the names of the 13 features\r\n",
        "print(\"Features: \", wine.feature_names,\"\\n=================================\\n\")\r\n",
        "\r\n",
        "# print the label type of wine(class_0, class_1, class_2)\r\n",
        "print(\"Labels: \", wine.target_names)# print data(feature)shape\r\n",
        "print(\"Shape:\",wine.data.shape,\"\\n======================================\\n\")\r\n",
        "\r\n",
        "# print the wine data features (top 5 records)\r\n",
        "print(\"Data:\",wine.data[0:5])\r\n",
        "\r\n",
        "# print the wine labels (0:Class_0, 1:class_2, 2:class_2)\r\n",
        "print(\"target:\",wine.target,\"\\n=================================\\n\")\r\n",
        "\r\n",
        "\r\n",
        "# Split dataset into training set and test set\r\n",
        "X_train, X_test, y_train, y_test = train_test_split(wine.data, wine.target, test_size=0.3,random_state=109) # 70% training and 30% test\r\n",
        "\r\n",
        "\r\n",
        "#Create a Gaussian Classifier\r\n",
        "gnb = GaussianNB()\r\n",
        "\r\n",
        "#Train the model using the training sets\r\n",
        "gnb.fit(X_train, y_train)\r\n",
        "\r\n",
        "#Predict the response for test dataset\r\n",
        "y_pred = gnb.predict(X_test)\r\n",
        "\r\n",
        "\r\n",
        "# Model Accuracy, how often is the classifier correct?\r\n",
        "print(\"Accuracy:\",metrics.accuracy_score(y_test, y_pred),\"\\n=================================\\n\")"
      ],
      "execution_count": null,
      "outputs": [
        {
          "output_type": "stream",
          "text": [
            "Features:  ['alcohol', 'malic_acid', 'ash', 'alcalinity_of_ash', 'magnesium', 'total_phenols', 'flavanoids', 'nonflavanoid_phenols', 'proanthocyanins', 'color_intensity', 'hue', 'od280/od315_of_diluted_wines', 'proline'] \n",
            "=================================\n",
            "\n",
            "Labels:  ['class_0' 'class_1' 'class_2']\n",
            "Shape: (178, 13) \n",
            "======================================\n",
            "\n",
            "Data: [[1.423e+01 1.710e+00 2.430e+00 1.560e+01 1.270e+02 2.800e+00 3.060e+00\n",
            "  2.800e-01 2.290e+00 5.640e+00 1.040e+00 3.920e+00 1.065e+03]\n",
            " [1.320e+01 1.780e+00 2.140e+00 1.120e+01 1.000e+02 2.650e+00 2.760e+00\n",
            "  2.600e-01 1.280e+00 4.380e+00 1.050e+00 3.400e+00 1.050e+03]\n",
            " [1.316e+01 2.360e+00 2.670e+00 1.860e+01 1.010e+02 2.800e+00 3.240e+00\n",
            "  3.000e-01 2.810e+00 5.680e+00 1.030e+00 3.170e+00 1.185e+03]\n",
            " [1.437e+01 1.950e+00 2.500e+00 1.680e+01 1.130e+02 3.850e+00 3.490e+00\n",
            "  2.400e-01 2.180e+00 7.800e+00 8.600e-01 3.450e+00 1.480e+03]\n",
            " [1.324e+01 2.590e+00 2.870e+00 2.100e+01 1.180e+02 2.800e+00 2.690e+00\n",
            "  3.900e-01 1.820e+00 4.320e+00 1.040e+00 2.930e+00 7.350e+02]]\n",
            "target: [0 0 0 0 0 0 0 0 0 0 0 0 0 0 0 0 0 0 0 0 0 0 0 0 0 0 0 0 0 0 0 0 0 0 0 0 0\n",
            " 0 0 0 0 0 0 0 0 0 0 0 0 0 0 0 0 0 0 0 0 0 0 1 1 1 1 1 1 1 1 1 1 1 1 1 1 1\n",
            " 1 1 1 1 1 1 1 1 1 1 1 1 1 1 1 1 1 1 1 1 1 1 1 1 1 1 1 1 1 1 1 1 1 1 1 1 1\n",
            " 1 1 1 1 1 1 1 1 1 1 1 1 1 1 1 1 1 1 1 2 2 2 2 2 2 2 2 2 2 2 2 2 2 2 2 2 2\n",
            " 2 2 2 2 2 2 2 2 2 2 2 2 2 2 2 2 2 2 2 2 2 2 2 2 2 2 2 2 2 2] \n",
            "=================================\n",
            "\n",
            "Accuracy: 0.9074074074074074 \n",
            "=================================\n",
            "\n"
          ],
          "name": "stdout"
        }
      ]
    },
    {
      "cell_type": "code",
      "metadata": {
        "colab": {
          "base_uri": "https://localhost:8080/"
        },
        "id": "TpyKuz-gao5D",
        "outputId": "2caa971c-16f6-4fc4-97e0-2791e35d516d"
      },
      "source": [
        "# This Python 3 environment comes with many helpful analytics libraries installed\r\n",
        "# It is defined by the kaggle/python docker image: https://github.com/kaggle/docker-python\r\n",
        "# For example, here's several helpful packages to load in \r\n",
        "\r\n",
        "import numpy as np # linear algebra\r\n",
        "import pandas as pd # data processing, CSV file I/O (e.g. pd.read_csv)\r\n",
        "\r\n",
        "from sklearn import preprocessing\r\n",
        "import matplotlib.pyplot as plt \r\n",
        "\r\n",
        "import statsmodels.api as sm\r\n",
        "import statsmodels.formula.api as smf\r\n",
        "\r\n",
        "from sklearn import datasets, linear_model\r\n",
        "from sklearn.metrics import mean_squared_error\r\n",
        "\r\n",
        "%matplotlib inline\r\n",
        "\r\n",
        "import seaborn as sns\r\n",
        "\r\n",
        "# Input data files are available in the \"../input/\" directory.\r\n",
        "# For example, running this (by clicking run or pressing Shift+Enter) will list all files under the input directory\r\n",
        "\r\n",
        "import os\r\n",
        "for dirname, _, filenames in os.walk('/content/sample_data'):\r\n",
        "    for filename in filenames:\r\n",
        "        print(\"os Path\",os.path.join(dirname, filename))\r\n",
        "\r\n",
        "\r\n"
      ],
      "execution_count": null,
      "outputs": [
        {
          "output_type": "stream",
          "text": [
            "os Path /content/sample_data/anscombe.json\n",
            "os Path /content/sample_data/README.md\n",
            "os Path /content/sample_data/winequality_red.csv\n",
            "os Path /content/sample_data/winequality_white.csv\n",
            "os Path /content/sample_data/california_housing_test.csv\n",
            "os Path /content/sample_data/mnist_train_small.csv\n",
            "os Path /content/sample_data/mnist_test.csv\n",
            "os Path /content/sample_data/california_housing_train.csv\n"
          ],
          "name": "stdout"
        }
      ]
    },
    {
      "cell_type": "code",
      "metadata": {
        "id": "n0DQ7vwPlpIn"
      },
      "source": [
        "### Load wine quality data into Pandas\r\n",
        "df_wine_red = pd.read_csv(\"/content/sample_data/winequality_red.csv\")\r\n",
        "\r\n",
        "df_wine_white = pd.read_csv(\"/content/sample_data/winequality_white.csv\")\r\n",
        "\r\n"
      ],
      "execution_count": null,
      "outputs": []
    },
    {
      "cell_type": "code",
      "metadata": {
        "colab": {
          "base_uri": "https://localhost:8080/",
          "height": 453
        },
        "id": "ZZeaUmqxuJTt",
        "outputId": "c6b6c12b-58bf-417e-a359-745bfe619d4b"
      },
      "source": [
        "df_wine_red"
      ],
      "execution_count": null,
      "outputs": [
        {
          "output_type": "execute_result",
          "data": {
            "text/html": [
              "<div>\n",
              "<style scoped>\n",
              "    .dataframe tbody tr th:only-of-type {\n",
              "        vertical-align: middle;\n",
              "    }\n",
              "\n",
              "    .dataframe tbody tr th {\n",
              "        vertical-align: top;\n",
              "    }\n",
              "\n",
              "    .dataframe thead th {\n",
              "        text-align: right;\n",
              "    }\n",
              "</style>\n",
              "<table border=\"1\" class=\"dataframe\">\n",
              "  <thead>\n",
              "    <tr style=\"text-align: right;\">\n",
              "      <th></th>\n",
              "      <th>fixed acidity</th>\n",
              "      <th>volatile acidity</th>\n",
              "      <th>citric acid</th>\n",
              "      <th>residual sugar</th>\n",
              "      <th>chlorides</th>\n",
              "      <th>free sulfur dioxide</th>\n",
              "      <th>total sulfur dioxide</th>\n",
              "      <th>density</th>\n",
              "      <th>pH</th>\n",
              "      <th>sulphates</th>\n",
              "      <th>alcohol</th>\n",
              "      <th>quality</th>\n",
              "    </tr>\n",
              "  </thead>\n",
              "  <tbody>\n",
              "    <tr>\n",
              "      <th>0</th>\n",
              "      <td>7.4</td>\n",
              "      <td>0.700</td>\n",
              "      <td>0.00</td>\n",
              "      <td>1.9</td>\n",
              "      <td>0.076</td>\n",
              "      <td>11.0</td>\n",
              "      <td>34.0</td>\n",
              "      <td>0.99780</td>\n",
              "      <td>3.51</td>\n",
              "      <td>0.56</td>\n",
              "      <td>9.4</td>\n",
              "      <td>5</td>\n",
              "    </tr>\n",
              "    <tr>\n",
              "      <th>1</th>\n",
              "      <td>7.8</td>\n",
              "      <td>0.880</td>\n",
              "      <td>0.00</td>\n",
              "      <td>2.6</td>\n",
              "      <td>0.098</td>\n",
              "      <td>25.0</td>\n",
              "      <td>67.0</td>\n",
              "      <td>0.99680</td>\n",
              "      <td>3.20</td>\n",
              "      <td>0.68</td>\n",
              "      <td>9.8</td>\n",
              "      <td>5</td>\n",
              "    </tr>\n",
              "    <tr>\n",
              "      <th>2</th>\n",
              "      <td>7.8</td>\n",
              "      <td>0.760</td>\n",
              "      <td>0.04</td>\n",
              "      <td>2.3</td>\n",
              "      <td>0.092</td>\n",
              "      <td>15.0</td>\n",
              "      <td>54.0</td>\n",
              "      <td>0.99700</td>\n",
              "      <td>3.26</td>\n",
              "      <td>0.65</td>\n",
              "      <td>9.8</td>\n",
              "      <td>5</td>\n",
              "    </tr>\n",
              "    <tr>\n",
              "      <th>3</th>\n",
              "      <td>11.2</td>\n",
              "      <td>0.280</td>\n",
              "      <td>0.56</td>\n",
              "      <td>1.9</td>\n",
              "      <td>0.075</td>\n",
              "      <td>17.0</td>\n",
              "      <td>60.0</td>\n",
              "      <td>0.99800</td>\n",
              "      <td>3.16</td>\n",
              "      <td>0.58</td>\n",
              "      <td>9.8</td>\n",
              "      <td>6</td>\n",
              "    </tr>\n",
              "    <tr>\n",
              "      <th>4</th>\n",
              "      <td>7.4</td>\n",
              "      <td>0.700</td>\n",
              "      <td>0.00</td>\n",
              "      <td>1.9</td>\n",
              "      <td>0.076</td>\n",
              "      <td>11.0</td>\n",
              "      <td>34.0</td>\n",
              "      <td>0.99780</td>\n",
              "      <td>3.51</td>\n",
              "      <td>0.56</td>\n",
              "      <td>9.4</td>\n",
              "      <td>5</td>\n",
              "    </tr>\n",
              "    <tr>\n",
              "      <th>...</th>\n",
              "      <td>...</td>\n",
              "      <td>...</td>\n",
              "      <td>...</td>\n",
              "      <td>...</td>\n",
              "      <td>...</td>\n",
              "      <td>...</td>\n",
              "      <td>...</td>\n",
              "      <td>...</td>\n",
              "      <td>...</td>\n",
              "      <td>...</td>\n",
              "      <td>...</td>\n",
              "      <td>...</td>\n",
              "    </tr>\n",
              "    <tr>\n",
              "      <th>1594</th>\n",
              "      <td>6.2</td>\n",
              "      <td>0.600</td>\n",
              "      <td>0.08</td>\n",
              "      <td>2.0</td>\n",
              "      <td>0.090</td>\n",
              "      <td>32.0</td>\n",
              "      <td>44.0</td>\n",
              "      <td>0.99490</td>\n",
              "      <td>3.45</td>\n",
              "      <td>0.58</td>\n",
              "      <td>10.5</td>\n",
              "      <td>5</td>\n",
              "    </tr>\n",
              "    <tr>\n",
              "      <th>1595</th>\n",
              "      <td>5.9</td>\n",
              "      <td>0.550</td>\n",
              "      <td>0.10</td>\n",
              "      <td>2.2</td>\n",
              "      <td>0.062</td>\n",
              "      <td>39.0</td>\n",
              "      <td>51.0</td>\n",
              "      <td>0.99512</td>\n",
              "      <td>3.52</td>\n",
              "      <td>0.76</td>\n",
              "      <td>11.2</td>\n",
              "      <td>6</td>\n",
              "    </tr>\n",
              "    <tr>\n",
              "      <th>1596</th>\n",
              "      <td>6.3</td>\n",
              "      <td>0.510</td>\n",
              "      <td>0.13</td>\n",
              "      <td>2.3</td>\n",
              "      <td>0.076</td>\n",
              "      <td>29.0</td>\n",
              "      <td>40.0</td>\n",
              "      <td>0.99574</td>\n",
              "      <td>3.42</td>\n",
              "      <td>0.75</td>\n",
              "      <td>11.0</td>\n",
              "      <td>6</td>\n",
              "    </tr>\n",
              "    <tr>\n",
              "      <th>1597</th>\n",
              "      <td>5.9</td>\n",
              "      <td>0.645</td>\n",
              "      <td>0.12</td>\n",
              "      <td>2.0</td>\n",
              "      <td>0.075</td>\n",
              "      <td>32.0</td>\n",
              "      <td>44.0</td>\n",
              "      <td>0.99547</td>\n",
              "      <td>3.57</td>\n",
              "      <td>0.71</td>\n",
              "      <td>10.2</td>\n",
              "      <td>5</td>\n",
              "    </tr>\n",
              "    <tr>\n",
              "      <th>1598</th>\n",
              "      <td>6.0</td>\n",
              "      <td>0.310</td>\n",
              "      <td>0.47</td>\n",
              "      <td>3.6</td>\n",
              "      <td>0.067</td>\n",
              "      <td>18.0</td>\n",
              "      <td>42.0</td>\n",
              "      <td>0.99549</td>\n",
              "      <td>3.39</td>\n",
              "      <td>0.66</td>\n",
              "      <td>11.0</td>\n",
              "      <td>6</td>\n",
              "    </tr>\n",
              "  </tbody>\n",
              "</table>\n",
              "<p>1599 rows × 12 columns</p>\n",
              "</div>"
            ],
            "text/plain": [
              "      fixed acidity  volatile acidity  citric acid  ...  sulphates  alcohol  quality\n",
              "0               7.4             0.700         0.00  ...       0.56      9.4        5\n",
              "1               7.8             0.880         0.00  ...       0.68      9.8        5\n",
              "2               7.8             0.760         0.04  ...       0.65      9.8        5\n",
              "3              11.2             0.280         0.56  ...       0.58      9.8        6\n",
              "4               7.4             0.700         0.00  ...       0.56      9.4        5\n",
              "...             ...               ...          ...  ...        ...      ...      ...\n",
              "1594            6.2             0.600         0.08  ...       0.58     10.5        5\n",
              "1595            5.9             0.550         0.10  ...       0.76     11.2        6\n",
              "1596            6.3             0.510         0.13  ...       0.75     11.0        6\n",
              "1597            5.9             0.645         0.12  ...       0.71     10.2        5\n",
              "1598            6.0             0.310         0.47  ...       0.66     11.0        6\n",
              "\n",
              "[1599 rows x 12 columns]"
            ]
          },
          "metadata": {
            "tags": []
          },
          "execution_count": 4
        }
      ]
    },
    {
      "cell_type": "code",
      "metadata": {
        "colab": {
          "base_uri": "https://localhost:8080/",
          "height": 453
        },
        "id": "d3OQlP3nuPGW",
        "outputId": "28d5e5d2-4972-4c89-ac29-d5b3f7df04ea"
      },
      "source": [
        "df_wine_white"
      ],
      "execution_count": null,
      "outputs": [
        {
          "output_type": "execute_result",
          "data": {
            "text/html": [
              "<div>\n",
              "<style scoped>\n",
              "    .dataframe tbody tr th:only-of-type {\n",
              "        vertical-align: middle;\n",
              "    }\n",
              "\n",
              "    .dataframe tbody tr th {\n",
              "        vertical-align: top;\n",
              "    }\n",
              "\n",
              "    .dataframe thead th {\n",
              "        text-align: right;\n",
              "    }\n",
              "</style>\n",
              "<table border=\"1\" class=\"dataframe\">\n",
              "  <thead>\n",
              "    <tr style=\"text-align: right;\">\n",
              "      <th></th>\n",
              "      <th>fixed acidity</th>\n",
              "      <th>volatile acidity</th>\n",
              "      <th>citric acid</th>\n",
              "      <th>residual sugar</th>\n",
              "      <th>chlorides</th>\n",
              "      <th>free sulfur dioxide</th>\n",
              "      <th>total sulfur dioxide</th>\n",
              "      <th>density</th>\n",
              "      <th>pH</th>\n",
              "      <th>sulphates</th>\n",
              "      <th>alcohol</th>\n",
              "      <th>quality</th>\n",
              "    </tr>\n",
              "  </thead>\n",
              "  <tbody>\n",
              "    <tr>\n",
              "      <th>0</th>\n",
              "      <td>7.0</td>\n",
              "      <td>0.27</td>\n",
              "      <td>0.36</td>\n",
              "      <td>20.7</td>\n",
              "      <td>0.045</td>\n",
              "      <td>45.0</td>\n",
              "      <td>170.0</td>\n",
              "      <td>1.00100</td>\n",
              "      <td>3.00</td>\n",
              "      <td>0.45</td>\n",
              "      <td>8.8</td>\n",
              "      <td>6</td>\n",
              "    </tr>\n",
              "    <tr>\n",
              "      <th>1</th>\n",
              "      <td>6.3</td>\n",
              "      <td>0.30</td>\n",
              "      <td>0.34</td>\n",
              "      <td>1.6</td>\n",
              "      <td>0.049</td>\n",
              "      <td>14.0</td>\n",
              "      <td>132.0</td>\n",
              "      <td>0.99400</td>\n",
              "      <td>3.30</td>\n",
              "      <td>0.49</td>\n",
              "      <td>9.5</td>\n",
              "      <td>6</td>\n",
              "    </tr>\n",
              "    <tr>\n",
              "      <th>2</th>\n",
              "      <td>8.1</td>\n",
              "      <td>0.28</td>\n",
              "      <td>0.40</td>\n",
              "      <td>6.9</td>\n",
              "      <td>0.050</td>\n",
              "      <td>30.0</td>\n",
              "      <td>97.0</td>\n",
              "      <td>0.99510</td>\n",
              "      <td>3.26</td>\n",
              "      <td>0.44</td>\n",
              "      <td>10.1</td>\n",
              "      <td>6</td>\n",
              "    </tr>\n",
              "    <tr>\n",
              "      <th>3</th>\n",
              "      <td>7.2</td>\n",
              "      <td>0.23</td>\n",
              "      <td>0.32</td>\n",
              "      <td>8.5</td>\n",
              "      <td>0.058</td>\n",
              "      <td>47.0</td>\n",
              "      <td>186.0</td>\n",
              "      <td>0.99560</td>\n",
              "      <td>3.19</td>\n",
              "      <td>0.40</td>\n",
              "      <td>9.9</td>\n",
              "      <td>6</td>\n",
              "    </tr>\n",
              "    <tr>\n",
              "      <th>4</th>\n",
              "      <td>7.2</td>\n",
              "      <td>0.23</td>\n",
              "      <td>0.32</td>\n",
              "      <td>8.5</td>\n",
              "      <td>0.058</td>\n",
              "      <td>47.0</td>\n",
              "      <td>186.0</td>\n",
              "      <td>0.99560</td>\n",
              "      <td>3.19</td>\n",
              "      <td>0.40</td>\n",
              "      <td>9.9</td>\n",
              "      <td>6</td>\n",
              "    </tr>\n",
              "    <tr>\n",
              "      <th>...</th>\n",
              "      <td>...</td>\n",
              "      <td>...</td>\n",
              "      <td>...</td>\n",
              "      <td>...</td>\n",
              "      <td>...</td>\n",
              "      <td>...</td>\n",
              "      <td>...</td>\n",
              "      <td>...</td>\n",
              "      <td>...</td>\n",
              "      <td>...</td>\n",
              "      <td>...</td>\n",
              "      <td>...</td>\n",
              "    </tr>\n",
              "    <tr>\n",
              "      <th>4893</th>\n",
              "      <td>6.2</td>\n",
              "      <td>0.21</td>\n",
              "      <td>0.29</td>\n",
              "      <td>1.6</td>\n",
              "      <td>0.039</td>\n",
              "      <td>24.0</td>\n",
              "      <td>92.0</td>\n",
              "      <td>0.99114</td>\n",
              "      <td>3.27</td>\n",
              "      <td>0.50</td>\n",
              "      <td>11.2</td>\n",
              "      <td>6</td>\n",
              "    </tr>\n",
              "    <tr>\n",
              "      <th>4894</th>\n",
              "      <td>6.6</td>\n",
              "      <td>0.32</td>\n",
              "      <td>0.36</td>\n",
              "      <td>8.0</td>\n",
              "      <td>0.047</td>\n",
              "      <td>57.0</td>\n",
              "      <td>168.0</td>\n",
              "      <td>0.99490</td>\n",
              "      <td>3.15</td>\n",
              "      <td>0.46</td>\n",
              "      <td>9.6</td>\n",
              "      <td>5</td>\n",
              "    </tr>\n",
              "    <tr>\n",
              "      <th>4895</th>\n",
              "      <td>6.5</td>\n",
              "      <td>0.24</td>\n",
              "      <td>0.19</td>\n",
              "      <td>1.2</td>\n",
              "      <td>0.041</td>\n",
              "      <td>30.0</td>\n",
              "      <td>111.0</td>\n",
              "      <td>0.99254</td>\n",
              "      <td>2.99</td>\n",
              "      <td>0.46</td>\n",
              "      <td>9.4</td>\n",
              "      <td>6</td>\n",
              "    </tr>\n",
              "    <tr>\n",
              "      <th>4896</th>\n",
              "      <td>5.5</td>\n",
              "      <td>0.29</td>\n",
              "      <td>0.30</td>\n",
              "      <td>1.1</td>\n",
              "      <td>0.022</td>\n",
              "      <td>20.0</td>\n",
              "      <td>110.0</td>\n",
              "      <td>0.98869</td>\n",
              "      <td>3.34</td>\n",
              "      <td>0.38</td>\n",
              "      <td>12.8</td>\n",
              "      <td>7</td>\n",
              "    </tr>\n",
              "    <tr>\n",
              "      <th>4897</th>\n",
              "      <td>6.0</td>\n",
              "      <td>0.21</td>\n",
              "      <td>0.38</td>\n",
              "      <td>0.8</td>\n",
              "      <td>0.020</td>\n",
              "      <td>22.0</td>\n",
              "      <td>98.0</td>\n",
              "      <td>0.98941</td>\n",
              "      <td>3.26</td>\n",
              "      <td>0.32</td>\n",
              "      <td>11.8</td>\n",
              "      <td>6</td>\n",
              "    </tr>\n",
              "  </tbody>\n",
              "</table>\n",
              "<p>4898 rows × 12 columns</p>\n",
              "</div>"
            ],
            "text/plain": [
              "      fixed acidity  volatile acidity  citric acid  ...  sulphates  alcohol  quality\n",
              "0               7.0              0.27         0.36  ...       0.45      8.8        6\n",
              "1               6.3              0.30         0.34  ...       0.49      9.5        6\n",
              "2               8.1              0.28         0.40  ...       0.44     10.1        6\n",
              "3               7.2              0.23         0.32  ...       0.40      9.9        6\n",
              "4               7.2              0.23         0.32  ...       0.40      9.9        6\n",
              "...             ...               ...          ...  ...        ...      ...      ...\n",
              "4893            6.2              0.21         0.29  ...       0.50     11.2        6\n",
              "4894            6.6              0.32         0.36  ...       0.46      9.6        5\n",
              "4895            6.5              0.24         0.19  ...       0.46      9.4        6\n",
              "4896            5.5              0.29         0.30  ...       0.38     12.8        7\n",
              "4897            6.0              0.21         0.38  ...       0.32     11.8        6\n",
              "\n",
              "[4898 rows x 12 columns]"
            ]
          },
          "metadata": {
            "tags": []
          },
          "execution_count": 5
        }
      ]
    },
    {
      "cell_type": "code",
      "metadata": {
        "id": "GBl3KT-RuTUH"
      },
      "source": [
        "df_wine_red['Color']='Red'\r\n",
        "df_wine_white['Color']='White'"
      ],
      "execution_count": null,
      "outputs": []
    },
    {
      "cell_type": "code",
      "metadata": {
        "id": "-jkBPTnLucDR"
      },
      "source": [
        "df_wine=pd.concat([df_wine_red,df_wine_white],axis=0)"
      ],
      "execution_count": null,
      "outputs": []
    },
    {
      "cell_type": "code",
      "metadata": {
        "colab": {
          "base_uri": "https://localhost:8080/",
          "height": 176
        },
        "id": "iLivMdxYunZh",
        "outputId": "2f03314c-96dc-4c3a-d945-c711112acf8f"
      },
      "source": [
        "df_wine.head(3)"
      ],
      "execution_count": null,
      "outputs": [
        {
          "output_type": "execute_result",
          "data": {
            "text/html": [
              "<div>\n",
              "<style scoped>\n",
              "    .dataframe tbody tr th:only-of-type {\n",
              "        vertical-align: middle;\n",
              "    }\n",
              "\n",
              "    .dataframe tbody tr th {\n",
              "        vertical-align: top;\n",
              "    }\n",
              "\n",
              "    .dataframe thead th {\n",
              "        text-align: right;\n",
              "    }\n",
              "</style>\n",
              "<table border=\"1\" class=\"dataframe\">\n",
              "  <thead>\n",
              "    <tr style=\"text-align: right;\">\n",
              "      <th></th>\n",
              "      <th>fixed acidity</th>\n",
              "      <th>volatile acidity</th>\n",
              "      <th>citric acid</th>\n",
              "      <th>residual sugar</th>\n",
              "      <th>chlorides</th>\n",
              "      <th>free sulfur dioxide</th>\n",
              "      <th>total sulfur dioxide</th>\n",
              "      <th>density</th>\n",
              "      <th>pH</th>\n",
              "      <th>sulphates</th>\n",
              "      <th>alcohol</th>\n",
              "      <th>quality</th>\n",
              "      <th>Color</th>\n",
              "    </tr>\n",
              "  </thead>\n",
              "  <tbody>\n",
              "    <tr>\n",
              "      <th>0</th>\n",
              "      <td>7.4</td>\n",
              "      <td>0.70</td>\n",
              "      <td>0.00</td>\n",
              "      <td>1.9</td>\n",
              "      <td>0.076</td>\n",
              "      <td>11.0</td>\n",
              "      <td>34.0</td>\n",
              "      <td>0.9978</td>\n",
              "      <td>3.51</td>\n",
              "      <td>0.56</td>\n",
              "      <td>9.4</td>\n",
              "      <td>5</td>\n",
              "      <td>Red</td>\n",
              "    </tr>\n",
              "    <tr>\n",
              "      <th>1</th>\n",
              "      <td>7.8</td>\n",
              "      <td>0.88</td>\n",
              "      <td>0.00</td>\n",
              "      <td>2.6</td>\n",
              "      <td>0.098</td>\n",
              "      <td>25.0</td>\n",
              "      <td>67.0</td>\n",
              "      <td>0.9968</td>\n",
              "      <td>3.20</td>\n",
              "      <td>0.68</td>\n",
              "      <td>9.8</td>\n",
              "      <td>5</td>\n",
              "      <td>Red</td>\n",
              "    </tr>\n",
              "    <tr>\n",
              "      <th>2</th>\n",
              "      <td>7.8</td>\n",
              "      <td>0.76</td>\n",
              "      <td>0.04</td>\n",
              "      <td>2.3</td>\n",
              "      <td>0.092</td>\n",
              "      <td>15.0</td>\n",
              "      <td>54.0</td>\n",
              "      <td>0.9970</td>\n",
              "      <td>3.26</td>\n",
              "      <td>0.65</td>\n",
              "      <td>9.8</td>\n",
              "      <td>5</td>\n",
              "      <td>Red</td>\n",
              "    </tr>\n",
              "  </tbody>\n",
              "</table>\n",
              "</div>"
            ],
            "text/plain": [
              "   fixed acidity  volatile acidity  citric acid  ...  alcohol  quality  Color\n",
              "0            7.4              0.70         0.00  ...      9.4        5    Red\n",
              "1            7.8              0.88         0.00  ...      9.8        5    Red\n",
              "2            7.8              0.76         0.04  ...      9.8        5    Red\n",
              "\n",
              "[3 rows x 13 columns]"
            ]
          },
          "metadata": {
            "tags": []
          },
          "execution_count": 8
        }
      ]
    },
    {
      "cell_type": "code",
      "metadata": {
        "colab": {
          "base_uri": "https://localhost:8080/"
        },
        "id": "f5PFaUHwuoR_",
        "outputId": "3d7d7687-3a1c-4f55-8ed2-d7b5e8fb7d55"
      },
      "source": [
        "df_wine.columns.values"
      ],
      "execution_count": null,
      "outputs": [
        {
          "output_type": "execute_result",
          "data": {
            "text/plain": [
              "array(['fixed acidity', 'volatile acidity', 'citric acid',\n",
              "       'residual sugar', 'chlorides', 'free sulfur dioxide',\n",
              "       'total sulfur dioxide', 'density', 'pH', 'sulphates', 'alcohol',\n",
              "       'quality', 'Color'], dtype=object)"
            ]
          },
          "metadata": {
            "tags": []
          },
          "execution_count": 9
        }
      ]
    },
    {
      "cell_type": "code",
      "metadata": {
        "id": "nZ2-cSGAu0WZ"
      },
      "source": [
        "df_wine.rename(columns={'fixed acidity':'fixed_acidity','volatile acidity':'volatile_acidity','citric acid':'citric_acid',\r\n",
        "                        'residual sugar':'residual_sugar','free sulfur dioxide':'free_sulfur_dioxide',\r\n",
        "                        'total sulfur dioxide':'total_sulfur_dioxide' },inplace=True)"
      ],
      "execution_count": null,
      "outputs": []
    },
    {
      "cell_type": "code",
      "metadata": {
        "colab": {
          "base_uri": "https://localhost:8080/"
        },
        "id": "DZauZbh5vJHl",
        "outputId": "c10bcfa1-ffce-48a9-ddcf-93d15bbb27f4"
      },
      "source": [
        "df_wine.columns.values"
      ],
      "execution_count": null,
      "outputs": [
        {
          "output_type": "execute_result",
          "data": {
            "text/plain": [
              "array(['fixed_acidity', 'volatile_acidity', 'citric_acid',\n",
              "       'residual_sugar', 'chlorides', 'free_sulfur_dioxide',\n",
              "       'total_sulfur_dioxide', 'density', 'pH', 'sulphates', 'alcohol',\n",
              "       'quality', 'Color'], dtype=object)"
            ]
          },
          "metadata": {
            "tags": []
          },
          "execution_count": 11
        }
      ]
    },
    {
      "cell_type": "code",
      "metadata": {
        "colab": {
          "base_uri": "https://localhost:8080/",
          "height": 439
        },
        "id": "6gvArhU6vPF5",
        "outputId": "b7e81a59-66a4-42c5-f7d6-56fd19f83cf0"
      },
      "source": [
        "#Data Quality & Missing Values\r\n",
        "\r\n",
        "df_wine.isnull()"
      ],
      "execution_count": null,
      "outputs": [
        {
          "output_type": "execute_result",
          "data": {
            "text/html": [
              "<div>\n",
              "<style scoped>\n",
              "    .dataframe tbody tr th:only-of-type {\n",
              "        vertical-align: middle;\n",
              "    }\n",
              "\n",
              "    .dataframe tbody tr th {\n",
              "        vertical-align: top;\n",
              "    }\n",
              "\n",
              "    .dataframe thead th {\n",
              "        text-align: right;\n",
              "    }\n",
              "</style>\n",
              "<table border=\"1\" class=\"dataframe\">\n",
              "  <thead>\n",
              "    <tr style=\"text-align: right;\">\n",
              "      <th></th>\n",
              "      <th>fixed_acidity</th>\n",
              "      <th>volatile_acidity</th>\n",
              "      <th>citric_acid</th>\n",
              "      <th>residual_sugar</th>\n",
              "      <th>chlorides</th>\n",
              "      <th>free_sulfur_dioxide</th>\n",
              "      <th>total_sulfur_dioxide</th>\n",
              "      <th>density</th>\n",
              "      <th>pH</th>\n",
              "      <th>sulphates</th>\n",
              "      <th>alcohol</th>\n",
              "      <th>quality</th>\n",
              "      <th>Color</th>\n",
              "    </tr>\n",
              "  </thead>\n",
              "  <tbody>\n",
              "    <tr>\n",
              "      <th>0</th>\n",
              "      <td>False</td>\n",
              "      <td>False</td>\n",
              "      <td>False</td>\n",
              "      <td>False</td>\n",
              "      <td>False</td>\n",
              "      <td>False</td>\n",
              "      <td>False</td>\n",
              "      <td>False</td>\n",
              "      <td>False</td>\n",
              "      <td>False</td>\n",
              "      <td>False</td>\n",
              "      <td>False</td>\n",
              "      <td>False</td>\n",
              "    </tr>\n",
              "    <tr>\n",
              "      <th>1</th>\n",
              "      <td>False</td>\n",
              "      <td>False</td>\n",
              "      <td>False</td>\n",
              "      <td>False</td>\n",
              "      <td>False</td>\n",
              "      <td>False</td>\n",
              "      <td>False</td>\n",
              "      <td>False</td>\n",
              "      <td>False</td>\n",
              "      <td>False</td>\n",
              "      <td>False</td>\n",
              "      <td>False</td>\n",
              "      <td>False</td>\n",
              "    </tr>\n",
              "    <tr>\n",
              "      <th>2</th>\n",
              "      <td>False</td>\n",
              "      <td>False</td>\n",
              "      <td>False</td>\n",
              "      <td>False</td>\n",
              "      <td>False</td>\n",
              "      <td>False</td>\n",
              "      <td>False</td>\n",
              "      <td>False</td>\n",
              "      <td>False</td>\n",
              "      <td>False</td>\n",
              "      <td>False</td>\n",
              "      <td>False</td>\n",
              "      <td>False</td>\n",
              "    </tr>\n",
              "    <tr>\n",
              "      <th>3</th>\n",
              "      <td>False</td>\n",
              "      <td>False</td>\n",
              "      <td>False</td>\n",
              "      <td>False</td>\n",
              "      <td>False</td>\n",
              "      <td>False</td>\n",
              "      <td>False</td>\n",
              "      <td>False</td>\n",
              "      <td>False</td>\n",
              "      <td>False</td>\n",
              "      <td>False</td>\n",
              "      <td>False</td>\n",
              "      <td>False</td>\n",
              "    </tr>\n",
              "    <tr>\n",
              "      <th>4</th>\n",
              "      <td>False</td>\n",
              "      <td>False</td>\n",
              "      <td>False</td>\n",
              "      <td>False</td>\n",
              "      <td>False</td>\n",
              "      <td>False</td>\n",
              "      <td>False</td>\n",
              "      <td>False</td>\n",
              "      <td>False</td>\n",
              "      <td>False</td>\n",
              "      <td>False</td>\n",
              "      <td>False</td>\n",
              "      <td>False</td>\n",
              "    </tr>\n",
              "    <tr>\n",
              "      <th>...</th>\n",
              "      <td>...</td>\n",
              "      <td>...</td>\n",
              "      <td>...</td>\n",
              "      <td>...</td>\n",
              "      <td>...</td>\n",
              "      <td>...</td>\n",
              "      <td>...</td>\n",
              "      <td>...</td>\n",
              "      <td>...</td>\n",
              "      <td>...</td>\n",
              "      <td>...</td>\n",
              "      <td>...</td>\n",
              "      <td>...</td>\n",
              "    </tr>\n",
              "    <tr>\n",
              "      <th>4893</th>\n",
              "      <td>False</td>\n",
              "      <td>False</td>\n",
              "      <td>False</td>\n",
              "      <td>False</td>\n",
              "      <td>False</td>\n",
              "      <td>False</td>\n",
              "      <td>False</td>\n",
              "      <td>False</td>\n",
              "      <td>False</td>\n",
              "      <td>False</td>\n",
              "      <td>False</td>\n",
              "      <td>False</td>\n",
              "      <td>False</td>\n",
              "    </tr>\n",
              "    <tr>\n",
              "      <th>4894</th>\n",
              "      <td>False</td>\n",
              "      <td>False</td>\n",
              "      <td>False</td>\n",
              "      <td>False</td>\n",
              "      <td>False</td>\n",
              "      <td>False</td>\n",
              "      <td>False</td>\n",
              "      <td>False</td>\n",
              "      <td>False</td>\n",
              "      <td>False</td>\n",
              "      <td>False</td>\n",
              "      <td>False</td>\n",
              "      <td>False</td>\n",
              "    </tr>\n",
              "    <tr>\n",
              "      <th>4895</th>\n",
              "      <td>False</td>\n",
              "      <td>False</td>\n",
              "      <td>False</td>\n",
              "      <td>False</td>\n",
              "      <td>False</td>\n",
              "      <td>False</td>\n",
              "      <td>False</td>\n",
              "      <td>False</td>\n",
              "      <td>False</td>\n",
              "      <td>False</td>\n",
              "      <td>False</td>\n",
              "      <td>False</td>\n",
              "      <td>False</td>\n",
              "    </tr>\n",
              "    <tr>\n",
              "      <th>4896</th>\n",
              "      <td>False</td>\n",
              "      <td>False</td>\n",
              "      <td>False</td>\n",
              "      <td>False</td>\n",
              "      <td>False</td>\n",
              "      <td>False</td>\n",
              "      <td>False</td>\n",
              "      <td>False</td>\n",
              "      <td>False</td>\n",
              "      <td>False</td>\n",
              "      <td>False</td>\n",
              "      <td>False</td>\n",
              "      <td>False</td>\n",
              "    </tr>\n",
              "    <tr>\n",
              "      <th>4897</th>\n",
              "      <td>False</td>\n",
              "      <td>False</td>\n",
              "      <td>False</td>\n",
              "      <td>False</td>\n",
              "      <td>False</td>\n",
              "      <td>False</td>\n",
              "      <td>False</td>\n",
              "      <td>False</td>\n",
              "      <td>False</td>\n",
              "      <td>False</td>\n",
              "      <td>False</td>\n",
              "      <td>False</td>\n",
              "      <td>False</td>\n",
              "    </tr>\n",
              "  </tbody>\n",
              "</table>\n",
              "<p>6497 rows × 13 columns</p>\n",
              "</div>"
            ],
            "text/plain": [
              "      fixed_acidity  volatile_acidity  citric_acid  ...  alcohol  quality  Color\n",
              "0             False             False        False  ...    False    False  False\n",
              "1             False             False        False  ...    False    False  False\n",
              "2             False             False        False  ...    False    False  False\n",
              "3             False             False        False  ...    False    False  False\n",
              "4             False             False        False  ...    False    False  False\n",
              "...             ...               ...          ...  ...      ...      ...    ...\n",
              "4893          False             False        False  ...    False    False  False\n",
              "4894          False             False        False  ...    False    False  False\n",
              "4895          False             False        False  ...    False    False  False\n",
              "4896          False             False        False  ...    False    False  False\n",
              "4897          False             False        False  ...    False    False  False\n",
              "\n",
              "[6497 rows x 13 columns]"
            ]
          },
          "metadata": {
            "tags": []
          },
          "execution_count": 12
        }
      ]
    },
    {
      "cell_type": "code",
      "metadata": {
        "colab": {
          "base_uri": "https://localhost:8080/"
        },
        "id": "Wm5TlUoWvXrs",
        "outputId": "53d9882a-a4cb-41c6-d4af-2f05af3fc748"
      },
      "source": [
        "df_wine.info()"
      ],
      "execution_count": null,
      "outputs": [
        {
          "output_type": "stream",
          "text": [
            "<class 'pandas.core.frame.DataFrame'>\n",
            "Int64Index: 6497 entries, 0 to 4897\n",
            "Data columns (total 13 columns):\n",
            " #   Column                Non-Null Count  Dtype  \n",
            "---  ------                --------------  -----  \n",
            " 0   fixed_acidity         6497 non-null   float64\n",
            " 1   volatile_acidity      6497 non-null   float64\n",
            " 2   citric_acid           6497 non-null   float64\n",
            " 3   residual_sugar        6497 non-null   float64\n",
            " 4   chlorides             6497 non-null   float64\n",
            " 5   free_sulfur_dioxide   6497 non-null   float64\n",
            " 6   total_sulfur_dioxide  6497 non-null   float64\n",
            " 7   density               6497 non-null   float64\n",
            " 8   pH                    6497 non-null   float64\n",
            " 9   sulphates             6497 non-null   float64\n",
            " 10  alcohol               6497 non-null   float64\n",
            " 11  quality               6497 non-null   int64  \n",
            " 12  Color                 6497 non-null   object \n",
            "dtypes: float64(11), int64(1), object(1)\n",
            "memory usage: 710.6+ KB\n"
          ],
          "name": "stdout"
        }
      ]
    },
    {
      "cell_type": "code",
      "metadata": {
        "colab": {
          "base_uri": "https://localhost:8080/",
          "height": 317
        },
        "id": "XlTYwEw-vvUi",
        "outputId": "b33e0072-5746-4b8f-a46c-a9558295c275"
      },
      "source": [
        "df_wine.describe()"
      ],
      "execution_count": null,
      "outputs": [
        {
          "output_type": "execute_result",
          "data": {
            "text/html": [
              "<div>\n",
              "<style scoped>\n",
              "    .dataframe tbody tr th:only-of-type {\n",
              "        vertical-align: middle;\n",
              "    }\n",
              "\n",
              "    .dataframe tbody tr th {\n",
              "        vertical-align: top;\n",
              "    }\n",
              "\n",
              "    .dataframe thead th {\n",
              "        text-align: right;\n",
              "    }\n",
              "</style>\n",
              "<table border=\"1\" class=\"dataframe\">\n",
              "  <thead>\n",
              "    <tr style=\"text-align: right;\">\n",
              "      <th></th>\n",
              "      <th>fixed_acidity</th>\n",
              "      <th>volatile_acidity</th>\n",
              "      <th>citric_acid</th>\n",
              "      <th>residual_sugar</th>\n",
              "      <th>chlorides</th>\n",
              "      <th>free_sulfur_dioxide</th>\n",
              "      <th>total_sulfur_dioxide</th>\n",
              "      <th>density</th>\n",
              "      <th>pH</th>\n",
              "      <th>sulphates</th>\n",
              "      <th>alcohol</th>\n",
              "      <th>quality</th>\n",
              "    </tr>\n",
              "  </thead>\n",
              "  <tbody>\n",
              "    <tr>\n",
              "      <th>count</th>\n",
              "      <td>6497.000000</td>\n",
              "      <td>6497.000000</td>\n",
              "      <td>6497.000000</td>\n",
              "      <td>6497.000000</td>\n",
              "      <td>6497.000000</td>\n",
              "      <td>6497.000000</td>\n",
              "      <td>6497.000000</td>\n",
              "      <td>6497.000000</td>\n",
              "      <td>6497.000000</td>\n",
              "      <td>6497.000000</td>\n",
              "      <td>6497.000000</td>\n",
              "      <td>6497.000000</td>\n",
              "    </tr>\n",
              "    <tr>\n",
              "      <th>mean</th>\n",
              "      <td>7.215307</td>\n",
              "      <td>0.339666</td>\n",
              "      <td>0.318633</td>\n",
              "      <td>5.443235</td>\n",
              "      <td>0.056034</td>\n",
              "      <td>30.525319</td>\n",
              "      <td>115.744574</td>\n",
              "      <td>0.994697</td>\n",
              "      <td>3.218501</td>\n",
              "      <td>0.531268</td>\n",
              "      <td>10.491801</td>\n",
              "      <td>5.818378</td>\n",
              "    </tr>\n",
              "    <tr>\n",
              "      <th>std</th>\n",
              "      <td>1.296434</td>\n",
              "      <td>0.164636</td>\n",
              "      <td>0.145318</td>\n",
              "      <td>4.757804</td>\n",
              "      <td>0.035034</td>\n",
              "      <td>17.749400</td>\n",
              "      <td>56.521855</td>\n",
              "      <td>0.002999</td>\n",
              "      <td>0.160787</td>\n",
              "      <td>0.148806</td>\n",
              "      <td>1.192712</td>\n",
              "      <td>0.873255</td>\n",
              "    </tr>\n",
              "    <tr>\n",
              "      <th>min</th>\n",
              "      <td>3.800000</td>\n",
              "      <td>0.080000</td>\n",
              "      <td>0.000000</td>\n",
              "      <td>0.600000</td>\n",
              "      <td>0.009000</td>\n",
              "      <td>1.000000</td>\n",
              "      <td>6.000000</td>\n",
              "      <td>0.987110</td>\n",
              "      <td>2.720000</td>\n",
              "      <td>0.220000</td>\n",
              "      <td>8.000000</td>\n",
              "      <td>3.000000</td>\n",
              "    </tr>\n",
              "    <tr>\n",
              "      <th>25%</th>\n",
              "      <td>6.400000</td>\n",
              "      <td>0.230000</td>\n",
              "      <td>0.250000</td>\n",
              "      <td>1.800000</td>\n",
              "      <td>0.038000</td>\n",
              "      <td>17.000000</td>\n",
              "      <td>77.000000</td>\n",
              "      <td>0.992340</td>\n",
              "      <td>3.110000</td>\n",
              "      <td>0.430000</td>\n",
              "      <td>9.500000</td>\n",
              "      <td>5.000000</td>\n",
              "    </tr>\n",
              "    <tr>\n",
              "      <th>50%</th>\n",
              "      <td>7.000000</td>\n",
              "      <td>0.290000</td>\n",
              "      <td>0.310000</td>\n",
              "      <td>3.000000</td>\n",
              "      <td>0.047000</td>\n",
              "      <td>29.000000</td>\n",
              "      <td>118.000000</td>\n",
              "      <td>0.994890</td>\n",
              "      <td>3.210000</td>\n",
              "      <td>0.510000</td>\n",
              "      <td>10.300000</td>\n",
              "      <td>6.000000</td>\n",
              "    </tr>\n",
              "    <tr>\n",
              "      <th>75%</th>\n",
              "      <td>7.700000</td>\n",
              "      <td>0.400000</td>\n",
              "      <td>0.390000</td>\n",
              "      <td>8.100000</td>\n",
              "      <td>0.065000</td>\n",
              "      <td>41.000000</td>\n",
              "      <td>156.000000</td>\n",
              "      <td>0.996990</td>\n",
              "      <td>3.320000</td>\n",
              "      <td>0.600000</td>\n",
              "      <td>11.300000</td>\n",
              "      <td>6.000000</td>\n",
              "    </tr>\n",
              "    <tr>\n",
              "      <th>max</th>\n",
              "      <td>15.900000</td>\n",
              "      <td>1.580000</td>\n",
              "      <td>1.660000</td>\n",
              "      <td>65.800000</td>\n",
              "      <td>0.611000</td>\n",
              "      <td>289.000000</td>\n",
              "      <td>440.000000</td>\n",
              "      <td>1.038980</td>\n",
              "      <td>4.010000</td>\n",
              "      <td>2.000000</td>\n",
              "      <td>14.900000</td>\n",
              "      <td>9.000000</td>\n",
              "    </tr>\n",
              "  </tbody>\n",
              "</table>\n",
              "</div>"
            ],
            "text/plain": [
              "       fixed_acidity  volatile_acidity  ...      alcohol      quality\n",
              "count    6497.000000       6497.000000  ...  6497.000000  6497.000000\n",
              "mean        7.215307          0.339666  ...    10.491801     5.818378\n",
              "std         1.296434          0.164636  ...     1.192712     0.873255\n",
              "min         3.800000          0.080000  ...     8.000000     3.000000\n",
              "25%         6.400000          0.230000  ...     9.500000     5.000000\n",
              "50%         7.000000          0.290000  ...    10.300000     6.000000\n",
              "75%         7.700000          0.400000  ...    11.300000     6.000000\n",
              "max        15.900000          1.580000  ...    14.900000     9.000000\n",
              "\n",
              "[8 rows x 12 columns]"
            ]
          },
          "metadata": {
            "tags": []
          },
          "execution_count": 14
        }
      ]
    },
    {
      "cell_type": "code",
      "metadata": {
        "colab": {
          "base_uri": "https://localhost:8080/",
          "height": 224
        },
        "id": "p7e7coeB1jVO",
        "outputId": "e7cd3041-afcb-422e-ad9a-4dbfd3218537"
      },
      "source": [
        "df_wine.head()"
      ],
      "execution_count": null,
      "outputs": [
        {
          "output_type": "execute_result",
          "data": {
            "text/html": [
              "<div>\n",
              "<style scoped>\n",
              "    .dataframe tbody tr th:only-of-type {\n",
              "        vertical-align: middle;\n",
              "    }\n",
              "\n",
              "    .dataframe tbody tr th {\n",
              "        vertical-align: top;\n",
              "    }\n",
              "\n",
              "    .dataframe thead th {\n",
              "        text-align: right;\n",
              "    }\n",
              "</style>\n",
              "<table border=\"1\" class=\"dataframe\">\n",
              "  <thead>\n",
              "    <tr style=\"text-align: right;\">\n",
              "      <th></th>\n",
              "      <th>fixed_acidity</th>\n",
              "      <th>volatile_acidity</th>\n",
              "      <th>citric_acid</th>\n",
              "      <th>residual_sugar</th>\n",
              "      <th>chlorides</th>\n",
              "      <th>free_sulfur_dioxide</th>\n",
              "      <th>total_sulfur_dioxide</th>\n",
              "      <th>density</th>\n",
              "      <th>pH</th>\n",
              "      <th>sulphates</th>\n",
              "      <th>alcohol</th>\n",
              "      <th>quality</th>\n",
              "      <th>Color</th>\n",
              "    </tr>\n",
              "  </thead>\n",
              "  <tbody>\n",
              "    <tr>\n",
              "      <th>0</th>\n",
              "      <td>7.4</td>\n",
              "      <td>0.70</td>\n",
              "      <td>0.00</td>\n",
              "      <td>1.9</td>\n",
              "      <td>0.076</td>\n",
              "      <td>11.0</td>\n",
              "      <td>34.0</td>\n",
              "      <td>0.9978</td>\n",
              "      <td>3.51</td>\n",
              "      <td>0.56</td>\n",
              "      <td>9.4</td>\n",
              "      <td>5</td>\n",
              "      <td>Red</td>\n",
              "    </tr>\n",
              "    <tr>\n",
              "      <th>1</th>\n",
              "      <td>7.8</td>\n",
              "      <td>0.88</td>\n",
              "      <td>0.00</td>\n",
              "      <td>2.6</td>\n",
              "      <td>0.098</td>\n",
              "      <td>25.0</td>\n",
              "      <td>67.0</td>\n",
              "      <td>0.9968</td>\n",
              "      <td>3.20</td>\n",
              "      <td>0.68</td>\n",
              "      <td>9.8</td>\n",
              "      <td>5</td>\n",
              "      <td>Red</td>\n",
              "    </tr>\n",
              "    <tr>\n",
              "      <th>2</th>\n",
              "      <td>7.8</td>\n",
              "      <td>0.76</td>\n",
              "      <td>0.04</td>\n",
              "      <td>2.3</td>\n",
              "      <td>0.092</td>\n",
              "      <td>15.0</td>\n",
              "      <td>54.0</td>\n",
              "      <td>0.9970</td>\n",
              "      <td>3.26</td>\n",
              "      <td>0.65</td>\n",
              "      <td>9.8</td>\n",
              "      <td>5</td>\n",
              "      <td>Red</td>\n",
              "    </tr>\n",
              "    <tr>\n",
              "      <th>3</th>\n",
              "      <td>11.2</td>\n",
              "      <td>0.28</td>\n",
              "      <td>0.56</td>\n",
              "      <td>1.9</td>\n",
              "      <td>0.075</td>\n",
              "      <td>17.0</td>\n",
              "      <td>60.0</td>\n",
              "      <td>0.9980</td>\n",
              "      <td>3.16</td>\n",
              "      <td>0.58</td>\n",
              "      <td>9.8</td>\n",
              "      <td>6</td>\n",
              "      <td>Red</td>\n",
              "    </tr>\n",
              "    <tr>\n",
              "      <th>4</th>\n",
              "      <td>7.4</td>\n",
              "      <td>0.70</td>\n",
              "      <td>0.00</td>\n",
              "      <td>1.9</td>\n",
              "      <td>0.076</td>\n",
              "      <td>11.0</td>\n",
              "      <td>34.0</td>\n",
              "      <td>0.9978</td>\n",
              "      <td>3.51</td>\n",
              "      <td>0.56</td>\n",
              "      <td>9.4</td>\n",
              "      <td>5</td>\n",
              "      <td>Red</td>\n",
              "    </tr>\n",
              "  </tbody>\n",
              "</table>\n",
              "</div>"
            ],
            "text/plain": [
              "   fixed_acidity  volatile_acidity  citric_acid  ...  alcohol  quality  Color\n",
              "0            7.4              0.70         0.00  ...      9.4        5    Red\n",
              "1            7.8              0.88         0.00  ...      9.8        5    Red\n",
              "2            7.8              0.76         0.04  ...      9.8        5    Red\n",
              "3           11.2              0.28         0.56  ...      9.8        6    Red\n",
              "4            7.4              0.70         0.00  ...      9.4        5    Red\n",
              "\n",
              "[5 rows x 13 columns]"
            ]
          },
          "metadata": {
            "tags": []
          },
          "execution_count": 20
        }
      ]
    },
    {
      "cell_type": "code",
      "metadata": {
        "colab": {
          "base_uri": "https://localhost:8080/"
        },
        "id": "EhHZPFDE14iR",
        "outputId": "c496a77e-3f53-46eb-a33e-f82326204772"
      },
      "source": [
        "df_wine['quality'].unique()"
      ],
      "execution_count": null,
      "outputs": [
        {
          "output_type": "execute_result",
          "data": {
            "text/plain": [
              "array([5, 6, 7, 4, 8, 3, 9])"
            ]
          },
          "metadata": {
            "tags": []
          },
          "execution_count": 22
        }
      ]
    },
    {
      "cell_type": "code",
      "metadata": {
        "colab": {
          "base_uri": "https://localhost:8080/",
          "height": 296
        },
        "id": "Yqn2Y59kv9cd",
        "outputId": "2b8dfba7-527d-4885-82c0-24aabec9670b"
      },
      "source": [
        "# Exploratory Data Analysis\r\n",
        "\r\n",
        "sns.countplot(x='quality',data=df_wine)"
      ],
      "execution_count": null,
      "outputs": [
        {
          "output_type": "execute_result",
          "data": {
            "text/plain": [
              "<matplotlib.axes._subplots.AxesSubplot at 0x7fdde61cac88>"
            ]
          },
          "metadata": {
            "tags": []
          },
          "execution_count": 15
        },
        {
          "output_type": "display_data",
          "data": {
            "image/png": "[encoded data removed]",
            "text/plain": [
              "<Figure size 432x288 with 1 Axes>"
            ]
          },
          "metadata": {
            "tags": [],
            "needs_background": "light"
          }
        }
      ]
    },
    {
      "cell_type": "code",
      "metadata": {
        "colab": {
          "base_uri": "https://localhost:8080/"
        },
        "id": "2WSfkEiO3IGF",
        "outputId": "5094e09a-0456-4ee4-8516-ac968610fd07"
      },
      "source": [
        "li = [[1,2,4],[4,5,6]]\r\n",
        "new = pd.DataFrame(li, columns=['a','b','c'])\r\n",
        "print(type(new))\r\n",
        "print(new)"
      ],
      "execution_count": null,
      "outputs": [
        {
          "output_type": "stream",
          "text": [
            "<class 'pandas.core.frame.DataFrame'>\n",
            "   a  b  c\n",
            "0  1  2  4\n",
            "1  4  5  6\n"
          ],
          "name": "stdout"
        }
      ]
    },
    {
      "cell_type": "code",
      "metadata": {
        "id": "Yj9VWz1a3Iff"
      },
      "source": [
        ""
      ],
      "execution_count": null,
      "outputs": []
    },
    {
      "cell_type": "code",
      "metadata": {
        "colab": {
          "base_uri": "https://localhost:8080/",
          "height": 210
        },
        "id": "4qiONwLjwLZj",
        "outputId": "9e51fe15-a97e-4dc3-cd44-8ca60aa3bb0e"
      },
      "source": [
        "mean_dic={'Color':['Red','White'],'Mean':[df_wine_red['quality'].mean(),df_wine_white['quality'].mean()]}\r\n",
        "df_mean_qua=pd.DataFrame(data=mean_dic)\r\n",
        "print(type(df_mean_qua))\r\n",
        "print(df_mean_qua)\r\n",
        "df_mean_qua.set_index('Color')"
      ],
      "execution_count": null,
      "outputs": [
        {
          "output_type": "stream",
          "text": [
            "<class 'pandas.core.frame.DataFrame'>\n",
            "   Color      Mean\n",
            "0    Red  5.636023\n",
            "1  White  5.877909\n"
          ],
          "name": "stdout"
        },
        {
          "output_type": "execute_result",
          "data": {
            "text/html": [
              "<div>\n",
              "<style scoped>\n",
              "    .dataframe tbody tr th:only-of-type {\n",
              "        vertical-align: middle;\n",
              "    }\n",
              "\n",
              "    .dataframe tbody tr th {\n",
              "        vertical-align: top;\n",
              "    }\n",
              "\n",
              "    .dataframe thead th {\n",
              "        text-align: right;\n",
              "    }\n",
              "</style>\n",
              "<table border=\"1\" class=\"dataframe\">\n",
              "  <thead>\n",
              "    <tr style=\"text-align: right;\">\n",
              "      <th></th>\n",
              "      <th>Mean</th>\n",
              "    </tr>\n",
              "    <tr>\n",
              "      <th>Color</th>\n",
              "      <th></th>\n",
              "    </tr>\n",
              "  </thead>\n",
              "  <tbody>\n",
              "    <tr>\n",
              "      <th>Red</th>\n",
              "      <td>5.636023</td>\n",
              "    </tr>\n",
              "    <tr>\n",
              "      <th>White</th>\n",
              "      <td>5.877909</td>\n",
              "    </tr>\n",
              "  </tbody>\n",
              "</table>\n",
              "</div>"
            ],
            "text/plain": [
              "           Mean\n",
              "Color          \n",
              "Red    5.636023\n",
              "White  5.877909"
            ]
          },
          "metadata": {
            "tags": []
          },
          "execution_count": 23
        }
      ]
    },
    {
      "cell_type": "code",
      "metadata": {
        "colab": {
          "base_uri": "https://localhost:8080/",
          "height": 495
        },
        "id": "xbrpstzMwxtw",
        "outputId": "d05f03e4-e5f6-4a70-ce71-1776e0c7cf37"
      },
      "source": [
        "df_mean_qua.plot(kind='bar',x='Color',figsize=(10,7),legend=False)\r\n",
        "plt.title('Average Quality by Wine Color')\r\n",
        "plt.xlabel('mean_quality')\r\n",
        "plt.ylabel('Average Quality')"
      ],
      "execution_count": null,
      "outputs": [
        {
          "output_type": "execute_result",
          "data": {
            "text/plain": [
              "Text(0, 0.5, 'Average Quality')"
            ]
          },
          "metadata": {
            "tags": []
          },
          "execution_count": 17
        },
        {
          "output_type": "display_data",
          "data": {
            "image/png": "[encoded data removed]",
            "text/plain": [
              "<Figure size 720x504 with 1 Axes>"
            ]
          },
          "metadata": {
            "tags": [],
            "needs_background": "light"
          }
        }
      ]
    },
    {
      "cell_type": "code",
      "metadata": {
        "id": "DuYXU3vdxOmT"
      },
      "source": [
        "df_Ph=pd.DataFrame({'f_ac':df_wine['fixed_acidity'],'pH':df_wine['pH'],'color':df_wine['Color']=='Red','size':df_wine['quality']})"
      ],
      "execution_count": null,
      "outputs": []
    },
    {
      "cell_type": "code",
      "metadata": {
        "colab": {
          "base_uri": "https://localhost:8080/",
          "height": 303
        },
        "id": "Zt9dyZbRxwzP",
        "outputId": "853eb03b-8cbc-479d-abf6-9166f2fc3456"
      },
      "source": [
        "plt.scatter('f_ac', 'pH',c='color',alpha=0.65,data=df_Ph)\r\n",
        "plt.xlabel(\"fixed_acidity\", size=16)\r\n",
        "plt.ylabel(\"pH\", size=16)"
      ],
      "execution_count": null,
      "outputs": [
        {
          "output_type": "execute_result",
          "data": {
            "text/plain": [
              "Text(0, 0.5, 'pH')"
            ]
          },
          "metadata": {
            "tags": []
          },
          "execution_count": 19
        },
        {
          "output_type": "display_data",
          "data": {
            "image/png": "[encoded data removed]",
            "text/plain": [
              "<Figure size 432x288 with 1 Axes>"
            ]
          },
          "metadata": {
            "tags": [],
            "needs_background": "light"
          }
        }
      ]
    },
    {
      "cell_type": "code",
      "metadata": {
        "id": "Ft2Vx22ryLdF",
        "colab": {
          "base_uri": "https://localhost:8080/"
        },
        "outputId": "7de98f18-ceb9-4abd-e0ad-c9b22687afd7"
      },
      "source": [
        "# object standardization\r\n",
        "import re\r\n",
        "lookup_dict = {'hi':'Hai','c':'See','u':'You','g8':'Great','nite':'Night','gud':'Good','frnds':'Friends'}\r\n",
        "def lookup_words_replacement(input_sentence): \r\n",
        "  result = []\r\n",
        "  input_sentence = input_sentence.split()\r\n",
        "  print(\"input_sentence\",input_sentence)\r\n",
        "  for input_word in input_sentence:\r\n",
        "    for key,value in lookup_dict.items():\r\n",
        "      if key == input_word.lower():\r\n",
        "        result.append(value)\r\n",
        "    if ((input_word.lower() not in result) & (input_word.lower() not in lookup_dict)): \r\n",
        "      result.append(input_word)\r\n",
        "  new_text = \" \".join(result) \r\n",
        "  return new_text      \r\n",
        "\r\n",
        "result = lookup_words_replacement(\"Hi frnds c u all tomorrow. g8 gud nite .\")\r\n",
        "print(result)"
      ],
      "execution_count": null,
      "outputs": [
        {
          "output_type": "stream",
          "text": [
            "input_sentence ['Hi', 'frnds', 'c', 'u', 'all', 'tomorrow.', 'g8', 'gud', 'nite', '.']\n",
            "Hai Friends See You all tomorrow. Great Good Night .\n"
          ],
          "name": "stdout"
        }
      ]
    },
    {
      "cell_type": "code",
      "metadata": {
        "colab": {
          "base_uri": "https://localhost:8080/"
        },
        "id": "0Y0kyiY4HYJV",
        "outputId": "346f87e0-0ea8-4c07-9153-74b91be05024"
      },
      "source": [
        "a=\"Hi frnds c u all tomorrow.g8 gud nite.\"\r\n",
        "import re\r\n",
        "word = re.split('[. ]',a)\r\n",
        "print(word)"
      ],
      "execution_count": null,
      "outputs": [
        {
          "output_type": "stream",
          "text": [
            "['Hi', 'frnds', 'c', 'u', 'all', 'tomorrow', 'g8', 'gud', 'nite', '']\n"
          ],
          "name": "stdout"
        }
      ]
    },
    {
      "cell_type": "code",
      "metadata": {
        "id": "QLoSJATBuy-u",
        "colab": {
          "base_uri": "https://localhost:8080/"
        },
        "outputId": "2c846afa-c7f5-4a39-ce5c-62e630e2f8cd"
      },
      "source": [
        "# N-Grams\r\n",
        "\r\n",
        "def generate_ngrams(text, n):\r\n",
        "    words = text.split()\r\n",
        "    output = []  \r\n",
        "    for i in range(len(words)-n+1):\r\n",
        "        output.append(words[i:i+n])\r\n",
        "    return output\r\n",
        "\r\n",
        "generate_ngrams('this is a sample text', 3)"
      ],
      "execution_count": null,
      "outputs": [
        {
          "output_type": "execute_result",
          "data": {
            "text/plain": [
              "[['this', 'is', 'a'], ['is', 'a', 'sample'], ['a', 'sample', 'text']]"
            ]
          },
          "metadata": {
            "tags": []
          },
          "execution_count": 1
        }
      ]
    },
    {
      "cell_type": "code",
      "metadata": {
        "colab": {
          "base_uri": "https://localhost:8080/"
        },
        "id": "LytG0EaYyYFk",
        "outputId": "4b928d73-2a38-42c5-d22a-c0a248498e63"
      },
      "source": [
        "# N-Grams\r\n",
        "\r\n",
        "def generate_ngrams(text, n):\r\n",
        "    words = text.split()\r\n",
        "    output = []  \r\n",
        "    for i in range(len(words)-n+1):\r\n",
        "        output.append(words[i:i+n])\r\n",
        "    return output\r\n",
        "\r\n",
        "generate_ngrams('this is a sample text I continue to write this line more still it has not come to the end', 7)"
      ],
      "execution_count": null,
      "outputs": [
        {
          "output_type": "execute_result",
          "data": {
            "text/plain": [
              "[['this', 'is', 'a', 'sample', 'text', 'I', 'continue'],\n",
              " ['is', 'a', 'sample', 'text', 'I', 'continue', 'to'],\n",
              " ['a', 'sample', 'text', 'I', 'continue', 'to', 'write'],\n",
              " ['sample', 'text', 'I', 'continue', 'to', 'write', 'this'],\n",
              " ['text', 'I', 'continue', 'to', 'write', 'this', 'line'],\n",
              " ['I', 'continue', 'to', 'write', 'this', 'line', 'more'],\n",
              " ['continue', 'to', 'write', 'this', 'line', 'more', 'still'],\n",
              " ['to', 'write', 'this', 'line', 'more', 'still', 'it'],\n",
              " ['write', 'this', 'line', 'more', 'still', 'it', 'has'],\n",
              " ['this', 'line', 'more', 'still', 'it', 'has', 'not'],\n",
              " ['line', 'more', 'still', 'it', 'has', 'not', 'come'],\n",
              " ['more', 'still', 'it', 'has', 'not', 'come', 'to'],\n",
              " ['still', 'it', 'has', 'not', 'come', 'to', 'the'],\n",
              " ['it', 'has', 'not', 'come', 'to', 'the', 'end']]"
            ]
          },
          "metadata": {
            "tags": []
          },
          "execution_count": 2
        }
      ]
    },
    {
      "cell_type": "code",
      "metadata": {
        "id": "BC7RktV17Z6_"
      },
      "source": [
        ""
      ],
      "execution_count": null,
      "outputs": []
    }
  ]
}