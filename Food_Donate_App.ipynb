{
 "cells": [
  {
   "cell_type": "code",
   "execution_count": null,
   "metadata": {},
   "outputs": [],
   "source": [
    "import IPython.display as display\n",
    "from PIL import Image\n",
    "  \n",
    "#Tot_Food={'Food1':{'name':'Sambar Vadai','count':90,'image':display.display(Image.open('C:\\\\Users\\\\Ultimate\\\\Desktop\\\\sambar_vadai.jpg')),'City':'Chennai'},'Food2': {'name':'Vada Curry','count':50,'image':display.display(Image.open('C:\\\\Users\\\\Ultimate\\\\Desktop\\\\vada_curry.jpg')),'City':'Madurai'},'Food3':{'name':'Masala Dosai','count':200,'image':display.display(Image.open('C:\\\\Users\\\\Ultimate\\\\Desktop\\\\Masala_Dosai.jpg')),'City':'Vellore'}}\n",
    " \n",
    "def food_donar(food_name,count,image,city):\n",
    "    global food_name1\n",
    "    global count1\n",
    "    global image1\n",
    "    global city1\n",
    "    food_name1 = food_name\n",
    "    count1 = count\n",
    "    image1 = image\n",
    "    city1 = city\n",
    "    Tot_Food={'Food1':{'name':food_name,'count':count,'image':image,'City':city}}\n",
    "    for food,item in Tot_Food.items():\n",
    "        return Tot_Food[food],Tot_Food[food]['City']\n",
    "    \n",
    "\n",
    "\n",
    "def food_donate_app():\n",
    "    food,City = food_donar(food_name1,count1,image1,city1)\n",
    "    receiver_notifi,order_count,receiver_city = food_receiver(x,y,z)\n",
    "    if receiver_city == City:\n",
    "        if receiver_notifi == 'Placing Order':\n",
    "            print(\"Food Receiver :: \",receiver_notifi)\n",
    "            update_count = food['count'] - int(order_count)\n",
    "            food['count'] = update_count\n",
    "        return \"Order Accepted \", food\n",
    "    elif receiver_city != City:\n",
    "        return 'Not in City Limit',''\n",
    "    \n",
    "def food_receiver(notifimsg,order_count,City):\n",
    "    return notifimsg ,order_count,City\n",
    "\n",
    "a,b=food_donar('Sambar Vadai',80,display.display(Image.open('C:\\\\Users\\\\Ultimate\\\\Desktop\\\\sambar_vadai.jpg')),'Chennai')\n",
    "x,y,z = food_receiver('Placing Order',50,'Chennai')\n",
    "print(food_donate_app())\n",
    "a,b=food_donar('Vada Curry',90,display.display(Image.open('C:\\\\Users\\\\Ultimate\\\\Desktop\\\\vada_curry.jpg')),'Sivagangai')\n",
    "x,y,z = food_receiver('Placing Order',50,'Chennai')\n",
    "print(food_donate_app())\n",
    "a,b=food_donar('Masala Dosai',200,display.display(Image.open('C:\\\\Users\\\\Ultimate\\\\Desktop\\\\Masala_Dosai.jpg')),'Coimbatore')\n",
    "x,y,z = food_receiver('Placing Order',50,'Coimbatore')\n",
    "print(food_donate_app())  "
   ]
  }
 ],
 "metadata": {
  "kernelspec": {
   "display_name": "Python 3",
   "language": "python",
   "name": "python3"
  },
  "language_info": {
   "codemirror_mode": {
    "name": "ipython",
    "version": 3
   },
   "file_extension": ".py",
   "mimetype": "text/x-python",
   "name": "python",
   "nbconvert_exporter": "python",
   "pygments_lexer": "ipython3",
   "version": "3.8.5"
  }
 },
 "nbformat": 4,
 "nbformat_minor": 4
}
