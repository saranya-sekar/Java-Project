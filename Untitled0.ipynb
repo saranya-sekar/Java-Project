{
  "nbformat": 4,
  "nbformat_minor": 0,
  "metadata": {
    "colab": {
      "name": "Untitled0.ipynb",
      "provenance": [],
      "collapsed_sections": [],
      "authorship_tag": "ABX9TyPGBWQ+lkRlqQf2G6/tVYLF",
      "include_colab_link": true
    },
    "kernelspec": {
      "name": "python3",
      "display_name": "Python 3"
    },
    "accelerator": "GPU"
  },
  "cells": [
    {
      "cell_type": "markdown",
      "metadata": {
        "id": "view-in-github",
        "colab_type": "text"
      },
      "source": [
        "<a href=\"https://colab.research.google.com/github/saranya-sekar/Java-Project/blob/main/Untitled0.ipynb\" target=\"_parent\"><img src=\"https://colab.research.google.com/assets/colab-badge.svg\" alt=\"Open In Colab\"/></a>"
      ]
    },
    {
      "cell_type": "code",
      "metadata": {
        "colab": {
          "base_uri": "https://localhost:8080/"
        },
        "id": "OceXIc-uaTlm",
        "outputId": "b34afa86-9fd7-4c42-a105-11f9588323f1"
      },
      "source": [
        "print('Hai')"
      ],
      "execution_count": 16,
      "outputs": [
        {
          "output_type": "stream",
          "text": [
            "Hai\n"
          ],
          "name": "stdout"
        }
      ]
    },
    {
      "cell_type": "code",
      "metadata": {
        "colab": {
          "base_uri": "https://localhost:8080/"
        },
        "id": "u7xi5ePSagBB",
        "outputId": "bab5aa93-dea5-483f-af39-f31aba9f0092"
      },
      "source": [
        "print('Hello')"
      ],
      "execution_count": 17,
      "outputs": [
        {
          "output_type": "stream",
          "text": [
            "Hello\n"
          ],
          "name": "stdout"
        }
      ]
    },
    {
      "cell_type": "code",
      "metadata": {
        "id": "MIZ5oSc-ane2",
        "colab": {
          "base_uri": "https://localhost:8080/"
        },
        "outputId": "4026a36b-09c2-4424-81b8-a0be78df7f83"
      },
      "source": [
        "def sum_fun(*a):\r\n",
        "    print(a)\r\n",
        "    SUM=0\r\n",
        "    for num in a:\r\n",
        "      for i in num:\r\n",
        "        print(i)\r\n",
        "        SUM += i\r\n",
        "        print(SUM)\r\n",
        "      return SUM\r\n",
        "\r\n",
        "x = list(map(int, input(\"Enter a multiple value: \").split(',')))\r\n",
        "print(\"List of students: \", x)\r\n",
        "sum_fun(x)\r\n"
      ],
      "execution_count": 18,
      "outputs": [
        {
          "output_type": "stream",
          "text": [
            "Enter a multiple value: 1,2,3\n",
            "List of students:  [1, 2, 3]\n",
            "([1, 2, 3],)\n",
            "1\n",
            "1\n",
            "2\n",
            "3\n",
            "3\n",
            "6\n"
          ],
          "name": "stdout"
        },
        {
          "output_type": "execute_result",
          "data": {
            "text/plain": [
              "6"
            ]
          },
          "metadata": {
            "tags": []
          },
          "execution_count": 18
        }
      ]
    },
    {
      "cell_type": "code",
      "metadata": {
        "id": "hVGVnt4RUR8S"
      },
      "source": [
        ""
      ],
      "execution_count": 18,
      "outputs": []
    },
    {
      "cell_type": "code",
      "metadata": {
        "id": "4RW1huc2USQk"
      },
      "source": [
        ""
      ],
      "execution_count": 18,
      "outputs": []
    },
    {
      "cell_type": "code",
      "metadata": {
        "colab": {
          "base_uri": "https://localhost:8080/"
        },
        "id": "9vILd87AUSUy",
        "outputId": "2c865f2f-5b3d-494a-e3ac-f4205c0c638e"
      },
      "source": [
        "import array as arr\r\n",
        "\r\n",
        "input_value=[]\r\n",
        "target_sum=0\r\n",
        "try:\r\n",
        "  input_value = list(map(int, input(\"Enter a multiple value: \").split(',')))\r\n",
        "  print(input_value)\r\n",
        "  input_value=arr.array('i',input_value)\r\n",
        "  target_sum = int(input(\"Enter a target sum: \"))\r\n",
        "  \r\n",
        "  if input_value:\r\n",
        "    print(\"Array has values:\",input_value)\r\n",
        "      \r\n",
        "except ValueError:\r\n",
        "  if not input_value:\r\n",
        "    print(\"Empty Array:\",input_value,\"\\n Please enter a valid input\")\r\n",
        "\r\n",
        "for i in input_value:\r\n",
        "  for j in input_value:\r\n",
        "    if (i!=j):\r\n",
        "      if (i+j) == target_sum:\r\n",
        "        print(\"The sum of {} {}\".format(i,j),\"is equal to target sum {}\".format(target_sum),\"Returning \",i,j)\r\n",
        "        \r\n",
        "    if (i+j) != target_sum:\r\n",
        "      print(\"The sum of {} {}\".format(i,j),\"is not equal to target sum {}\".format(target_sum),\"Returning\",[])\r\n",
        "    \r\n",
        "\r\n",
        "          \r\n",
        "\r\n",
        "\r\n",
        "\r\n",
        "\r\n",
        "\r\n",
        " \r\n"
      ],
      "execution_count": 72,
      "outputs": [
        {
          "output_type": "stream",
          "text": [
            "Enter a multiple value: 3,5,-4,8,11,1,-1,6,5\n",
            "[3, 5, -4, 8, 11, 1, -1, 6, 5]\n",
            "Enter a target sum: 10\n",
            "Array has values: array('i', [3, 5, -4, 8, 11, 1, -1, 6, 5])\n",
            "The sum of 3 3 is not equal to target sum 10 Returning []\n",
            "The sum of 3 5 is not equal to target sum 10 Returning []\n",
            "The sum of 3 -4 is not equal to target sum 10 Returning []\n",
            "The sum of 3 8 is not equal to target sum 10 Returning []\n",
            "The sum of 3 11 is not equal to target sum 10 Returning []\n",
            "The sum of 3 1 is not equal to target sum 10 Returning []\n",
            "The sum of 3 -1 is not equal to target sum 10 Returning []\n",
            "The sum of 3 6 is not equal to target sum 10 Returning []\n",
            "The sum of 3 5 is not equal to target sum 10 Returning []\n",
            "The sum of 5 3 is not equal to target sum 10 Returning []\n",
            "The sum of 5 -4 is not equal to target sum 10 Returning []\n",
            "The sum of 5 8 is not equal to target sum 10 Returning []\n",
            "The sum of 5 11 is not equal to target sum 10 Returning []\n",
            "The sum of 5 1 is not equal to target sum 10 Returning []\n",
            "The sum of 5 -1 is not equal to target sum 10 Returning []\n",
            "The sum of 5 6 is not equal to target sum 10 Returning []\n",
            "The sum of -4 3 is not equal to target sum 10 Returning []\n",
            "The sum of -4 5 is not equal to target sum 10 Returning []\n",
            "The sum of -4 -4 is not equal to target sum 10 Returning []\n",
            "The sum of -4 8 is not equal to target sum 10 Returning []\n",
            "The sum of -4 11 is not equal to target sum 10 Returning []\n",
            "The sum of -4 1 is not equal to target sum 10 Returning []\n",
            "The sum of -4 -1 is not equal to target sum 10 Returning []\n",
            "The sum of -4 6 is not equal to target sum 10 Returning []\n",
            "The sum of -4 5 is not equal to target sum 10 Returning []\n",
            "The sum of 8 3 is not equal to target sum 10 Returning []\n",
            "The sum of 8 5 is not equal to target sum 10 Returning []\n",
            "The sum of 8 -4 is not equal to target sum 10 Returning []\n",
            "The sum of 8 8 is not equal to target sum 10 Returning []\n",
            "The sum of 8 11 is not equal to target sum 10 Returning []\n",
            "The sum of 8 1 is not equal to target sum 10 Returning []\n",
            "The sum of 8 -1 is not equal to target sum 10 Returning []\n",
            "The sum of 8 6 is not equal to target sum 10 Returning []\n",
            "The sum of 8 5 is not equal to target sum 10 Returning []\n",
            "The sum of 11 3 is not equal to target sum 10 Returning []\n",
            "The sum of 11 5 is not equal to target sum 10 Returning []\n",
            "The sum of 11 -4 is not equal to target sum 10 Returning []\n",
            "The sum of 11 8 is not equal to target sum 10 Returning []\n",
            "The sum of 11 11 is not equal to target sum 10 Returning []\n",
            "The sum of 11 1 is not equal to target sum 10 Returning []\n",
            "The sum of 11 -1 is equal to target sum 10 Returning  11 -1\n",
            "The sum of 11 6 is not equal to target sum 10 Returning []\n",
            "The sum of 11 5 is not equal to target sum 10 Returning []\n",
            "The sum of 1 3 is not equal to target sum 10 Returning []\n",
            "The sum of 1 5 is not equal to target sum 10 Returning []\n",
            "The sum of 1 -4 is not equal to target sum 10 Returning []\n",
            "The sum of 1 8 is not equal to target sum 10 Returning []\n",
            "The sum of 1 11 is not equal to target sum 10 Returning []\n",
            "The sum of 1 1 is not equal to target sum 10 Returning []\n",
            "The sum of 1 -1 is not equal to target sum 10 Returning []\n",
            "The sum of 1 6 is not equal to target sum 10 Returning []\n",
            "The sum of 1 5 is not equal to target sum 10 Returning []\n",
            "The sum of -1 3 is not equal to target sum 10 Returning []\n",
            "The sum of -1 5 is not equal to target sum 10 Returning []\n",
            "The sum of -1 -4 is not equal to target sum 10 Returning []\n",
            "The sum of -1 8 is not equal to target sum 10 Returning []\n",
            "The sum of -1 11 is equal to target sum 10 Returning  -1 11\n",
            "The sum of -1 1 is not equal to target sum 10 Returning []\n",
            "The sum of -1 -1 is not equal to target sum 10 Returning []\n",
            "The sum of -1 6 is not equal to target sum 10 Returning []\n",
            "The sum of -1 5 is not equal to target sum 10 Returning []\n",
            "The sum of 6 3 is not equal to target sum 10 Returning []\n",
            "The sum of 6 5 is not equal to target sum 10 Returning []\n",
            "The sum of 6 -4 is not equal to target sum 10 Returning []\n",
            "The sum of 6 8 is not equal to target sum 10 Returning []\n",
            "The sum of 6 11 is not equal to target sum 10 Returning []\n",
            "The sum of 6 1 is not equal to target sum 10 Returning []\n",
            "The sum of 6 -1 is not equal to target sum 10 Returning []\n",
            "The sum of 6 6 is not equal to target sum 10 Returning []\n",
            "The sum of 6 5 is not equal to target sum 10 Returning []\n",
            "The sum of 5 3 is not equal to target sum 10 Returning []\n",
            "The sum of 5 -4 is not equal to target sum 10 Returning []\n",
            "The sum of 5 8 is not equal to target sum 10 Returning []\n",
            "The sum of 5 11 is not equal to target sum 10 Returning []\n",
            "The sum of 5 1 is not equal to target sum 10 Returning []\n",
            "The sum of 5 -1 is not equal to target sum 10 Returning []\n",
            "The sum of 5 6 is not equal to target sum 10 Returning []\n"
          ],
          "name": "stdout"
        }
      ]
    },
    {
      "cell_type": "code",
      "metadata": {
        "id": "H9BuPNwbdXmK"
      },
      "source": [
        ""
      ],
      "execution_count": null,
      "outputs": []
    }
  ]
}