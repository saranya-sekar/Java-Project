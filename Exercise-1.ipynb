{
  "nbformat": 4,
  "nbformat_minor": 0,
  "metadata": {
    "colab": {
      "name": "Untitled0.ipynb",
      "provenance": [],
      "collapsed_sections": [],
      "authorship_tag": "ABX9TyO/VnQD7V3WMFW2s1HE5VRQ",
      "include_colab_link": true
    },
    "kernelspec": {
      "name": "python3",
      "display_name": "Python 3"
    }
  },
  "cells": [
    {
      "cell_type": "markdown",
      "metadata": {
        "id": "view-in-github",
        "colab_type": "text"
      },
      "source": [
        "<a href=\"https://colab.research.google.com/github/saranya-sekar/Java-Project/blob/main/Exercise-1.ipynb\" target=\"_parent\"><img src=\"https://colab.research.google.com/assets/colab-badge.svg\" alt=\"Open In Colab\"/></a>"
      ]
    },
    {
      "cell_type": "code",
      "metadata": {
        "colab": {
          "base_uri": "https://localhost:8080/"
        },
        "id": "OceXIc-uaTlm",
        "outputId": "3482d32d-7fc1-45a1-88ea-70e572313618"
      },
      "source": [
        "print('Hai')"
      ],
      "execution_count": null,
      "outputs": [
        {
          "output_type": "stream",
          "text": [
            "Hai\n"
          ],
          "name": "stdout"
        }
      ]
    },
    {
      "cell_type": "code",
      "metadata": {
        "colab": {
          "base_uri": "https://localhost:8080/"
        },
        "id": "u7xi5ePSagBB",
        "outputId": "6e1504de-ddee-456f-de90-ba163c6e7a02"
      },
      "source": [
        "print('Hello')"
      ],
      "execution_count": null,
      "outputs": [
        {
          "output_type": "stream",
          "text": [
            "Hello\n"
          ],
          "name": "stdout"
        }
      ]
    },
    {
      "cell_type": "code",
      "metadata": {
        "id": "MIZ5oSc-ane2",
        "colab": {
          "base_uri": "https://localhost:8080/"
        },
        "outputId": "33cd7354-2bdc-427e-ebf4-3e016d7f6e26"
      },
      "source": [
        "def sum_fun(*a):\r\n",
        "    for num in a:\r\n",
        "        SUM = sum(num)\r\n",
        "        print(SUM)\r\n",
        "\r\n",
        "x = list(map(int, input(\"Enter a multiple value: \").split()))\r\n",
        "print(\"List of students: \", x)\r\n",
        "sum_fun(x)\r\n"
      ],
      "execution_count": 11,
      "outputs": [
        {
          "output_type": "stream",
          "text": [
            "Enter a multiple value: 1 2 3\n",
            "List of students:  [1, 2, 3]\n",
            "6\n"
          ],
          "name": "stdout"
        }
      ]
    },
    {
      "cell_type": "code",
      "metadata": {
        "id": "DWCXH6rcKKaX"
      },
      "source": [
        ""
      ],
      "execution_count": null,
      "outputs": []
    }
  ]
}